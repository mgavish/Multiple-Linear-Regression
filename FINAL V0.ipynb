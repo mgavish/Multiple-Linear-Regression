{
 "cells": [
  {
   "cell_type": "markdown",
   "metadata": {},
   "source": [
    "## Final Project Submission\n",
    "\n",
    "Please fill out:\n",
    "* Student name: \n",
    "* Student pace: self paced / part time / full time\n",
    "* Scheduled project review date/time: \n",
    "* Instructor name: \n",
    "* Blog post URL:\n"
   ]
  },
  {
   "cell_type": "code",
   "execution_count": 1,
   "metadata": {},
   "outputs": [],
   "source": [
    "# Your code here - remember to use markdown cells for comments as well!"
   ]
  },
  {
   "cell_type": "code",
   "execution_count": 2,
   "metadata": {},
   "outputs": [],
   "source": [
    "import pandas as pd \n",
    "import numpy as np\n",
    "import seaborn as sns\n",
    "\n",
    "pd.set_option('display.max_columns', None) # shows me all columns instead of truncating and dot dot dot\n",
    "\n",
    "import matplotlib.pyplot as plt\n",
    "%matplotlib inline\n",
    "plt.style.use('seaborn')\n",
    "\n",
    "from scipy.stats import kurtosis, skew\n",
    "import scipy.stats as stats\n",
    "\n",
    "from math import sqrt\n",
    "\n",
    "import statsmodels.formula.api as smf"
   ]
  },
  {
   "cell_type": "markdown",
   "metadata": {},
   "source": [
    "##### inspect dataframe"
   ]
  },
  {
   "cell_type": "code",
   "execution_count": 3,
   "metadata": {},
   "outputs": [
    {
     "data": {
      "text/html": [
       "<div>\n",
       "<style scoped>\n",
       "    .dataframe tbody tr th:only-of-type {\n",
       "        vertical-align: middle;\n",
       "    }\n",
       "\n",
       "    .dataframe tbody tr th {\n",
       "        vertical-align: top;\n",
       "    }\n",
       "\n",
       "    .dataframe thead th {\n",
       "        text-align: right;\n",
       "    }\n",
       "</style>\n",
       "<table border=\"1\" class=\"dataframe\">\n",
       "  <thead>\n",
       "    <tr style=\"text-align: right;\">\n",
       "      <th></th>\n",
       "      <th>id</th>\n",
       "      <th>date</th>\n",
       "      <th>price</th>\n",
       "      <th>bedrooms</th>\n",
       "      <th>bathrooms</th>\n",
       "      <th>sqft_living</th>\n",
       "      <th>sqft_lot</th>\n",
       "      <th>floors</th>\n",
       "      <th>waterfront</th>\n",
       "      <th>view</th>\n",
       "      <th>condition</th>\n",
       "      <th>grade</th>\n",
       "      <th>sqft_above</th>\n",
       "      <th>sqft_basement</th>\n",
       "      <th>yr_built</th>\n",
       "      <th>yr_renovated</th>\n",
       "      <th>zipcode</th>\n",
       "      <th>lat</th>\n",
       "      <th>long</th>\n",
       "      <th>sqft_living15</th>\n",
       "      <th>sqft_lot15</th>\n",
       "    </tr>\n",
       "  </thead>\n",
       "  <tbody>\n",
       "    <tr>\n",
       "      <th>0</th>\n",
       "      <td>7129300520</td>\n",
       "      <td>10/13/2014</td>\n",
       "      <td>221900.0</td>\n",
       "      <td>3</td>\n",
       "      <td>1.00</td>\n",
       "      <td>1180</td>\n",
       "      <td>5650</td>\n",
       "      <td>1.0</td>\n",
       "      <td>NaN</td>\n",
       "      <td>0.0</td>\n",
       "      <td>3</td>\n",
       "      <td>7</td>\n",
       "      <td>1180</td>\n",
       "      <td>0.0</td>\n",
       "      <td>1955</td>\n",
       "      <td>0.0</td>\n",
       "      <td>98178</td>\n",
       "      <td>47.5112</td>\n",
       "      <td>-122.257</td>\n",
       "      <td>1340</td>\n",
       "      <td>5650</td>\n",
       "    </tr>\n",
       "    <tr>\n",
       "      <th>1</th>\n",
       "      <td>6414100192</td>\n",
       "      <td>12/9/2014</td>\n",
       "      <td>538000.0</td>\n",
       "      <td>3</td>\n",
       "      <td>2.25</td>\n",
       "      <td>2570</td>\n",
       "      <td>7242</td>\n",
       "      <td>2.0</td>\n",
       "      <td>0.0</td>\n",
       "      <td>0.0</td>\n",
       "      <td>3</td>\n",
       "      <td>7</td>\n",
       "      <td>2170</td>\n",
       "      <td>400.0</td>\n",
       "      <td>1951</td>\n",
       "      <td>1991.0</td>\n",
       "      <td>98125</td>\n",
       "      <td>47.7210</td>\n",
       "      <td>-122.319</td>\n",
       "      <td>1690</td>\n",
       "      <td>7639</td>\n",
       "    </tr>\n",
       "    <tr>\n",
       "      <th>2</th>\n",
       "      <td>5631500400</td>\n",
       "      <td>2/25/2015</td>\n",
       "      <td>180000.0</td>\n",
       "      <td>2</td>\n",
       "      <td>1.00</td>\n",
       "      <td>770</td>\n",
       "      <td>10000</td>\n",
       "      <td>1.0</td>\n",
       "      <td>0.0</td>\n",
       "      <td>0.0</td>\n",
       "      <td>3</td>\n",
       "      <td>6</td>\n",
       "      <td>770</td>\n",
       "      <td>0.0</td>\n",
       "      <td>1933</td>\n",
       "      <td>NaN</td>\n",
       "      <td>98028</td>\n",
       "      <td>47.7379</td>\n",
       "      <td>-122.233</td>\n",
       "      <td>2720</td>\n",
       "      <td>8062</td>\n",
       "    </tr>\n",
       "    <tr>\n",
       "      <th>3</th>\n",
       "      <td>2487200875</td>\n",
       "      <td>12/9/2014</td>\n",
       "      <td>604000.0</td>\n",
       "      <td>4</td>\n",
       "      <td>3.00</td>\n",
       "      <td>1960</td>\n",
       "      <td>5000</td>\n",
       "      <td>1.0</td>\n",
       "      <td>0.0</td>\n",
       "      <td>0.0</td>\n",
       "      <td>5</td>\n",
       "      <td>7</td>\n",
       "      <td>1050</td>\n",
       "      <td>910.0</td>\n",
       "      <td>1965</td>\n",
       "      <td>0.0</td>\n",
       "      <td>98136</td>\n",
       "      <td>47.5208</td>\n",
       "      <td>-122.393</td>\n",
       "      <td>1360</td>\n",
       "      <td>5000</td>\n",
       "    </tr>\n",
       "    <tr>\n",
       "      <th>4</th>\n",
       "      <td>1954400510</td>\n",
       "      <td>2/18/2015</td>\n",
       "      <td>510000.0</td>\n",
       "      <td>3</td>\n",
       "      <td>2.00</td>\n",
       "      <td>1680</td>\n",
       "      <td>8080</td>\n",
       "      <td>1.0</td>\n",
       "      <td>0.0</td>\n",
       "      <td>0.0</td>\n",
       "      <td>3</td>\n",
       "      <td>8</td>\n",
       "      <td>1680</td>\n",
       "      <td>0.0</td>\n",
       "      <td>1987</td>\n",
       "      <td>0.0</td>\n",
       "      <td>98074</td>\n",
       "      <td>47.6168</td>\n",
       "      <td>-122.045</td>\n",
       "      <td>1800</td>\n",
       "      <td>7503</td>\n",
       "    </tr>\n",
       "  </tbody>\n",
       "</table>\n",
       "</div>"
      ],
      "text/plain": [
       "           id        date     price  bedrooms  bathrooms  sqft_living  \\\n",
       "0  7129300520  10/13/2014  221900.0         3       1.00         1180   \n",
       "1  6414100192   12/9/2014  538000.0         3       2.25         2570   \n",
       "2  5631500400   2/25/2015  180000.0         2       1.00          770   \n",
       "3  2487200875   12/9/2014  604000.0         4       3.00         1960   \n",
       "4  1954400510   2/18/2015  510000.0         3       2.00         1680   \n",
       "\n",
       "   sqft_lot  floors  waterfront  view  condition  grade  sqft_above  \\\n",
       "0      5650     1.0         NaN   0.0          3      7        1180   \n",
       "1      7242     2.0         0.0   0.0          3      7        2170   \n",
       "2     10000     1.0         0.0   0.0          3      6         770   \n",
       "3      5000     1.0         0.0   0.0          5      7        1050   \n",
       "4      8080     1.0         0.0   0.0          3      8        1680   \n",
       "\n",
       "  sqft_basement  yr_built  yr_renovated  zipcode      lat     long  \\\n",
       "0           0.0      1955           0.0    98178  47.5112 -122.257   \n",
       "1         400.0      1951        1991.0    98125  47.7210 -122.319   \n",
       "2           0.0      1933           NaN    98028  47.7379 -122.233   \n",
       "3         910.0      1965           0.0    98136  47.5208 -122.393   \n",
       "4           0.0      1987           0.0    98074  47.6168 -122.045   \n",
       "\n",
       "   sqft_living15  sqft_lot15  \n",
       "0           1340        5650  \n",
       "1           1690        7639  \n",
       "2           2720        8062  \n",
       "3           1360        5000  \n",
       "4           1800        7503  "
      ]
     },
     "execution_count": 3,
     "metadata": {},
     "output_type": "execute_result"
    }
   ],
   "source": [
    "df = pd.read_csv(\"kc_house_data.csv\")\n",
    "df.head()"
   ]
  },
  {
   "cell_type": "code",
   "execution_count": 4,
   "metadata": {},
   "outputs": [
    {
     "name": "stdout",
     "output_type": "stream",
     "text": [
      "<class 'pandas.core.frame.DataFrame'>\n",
      "RangeIndex: 21597 entries, 0 to 21596\n",
      "Data columns (total 21 columns):\n",
      "id               21597 non-null int64\n",
      "date             21597 non-null object\n",
      "price            21597 non-null float64\n",
      "bedrooms         21597 non-null int64\n",
      "bathrooms        21597 non-null float64\n",
      "sqft_living      21597 non-null int64\n",
      "sqft_lot         21597 non-null int64\n",
      "floors           21597 non-null float64\n",
      "waterfront       19221 non-null float64\n",
      "view             21534 non-null float64\n",
      "condition        21597 non-null int64\n",
      "grade            21597 non-null int64\n",
      "sqft_above       21597 non-null int64\n",
      "sqft_basement    21597 non-null object\n",
      "yr_built         21597 non-null int64\n",
      "yr_renovated     17755 non-null float64\n",
      "zipcode          21597 non-null int64\n",
      "lat              21597 non-null float64\n",
      "long             21597 non-null float64\n",
      "sqft_living15    21597 non-null int64\n",
      "sqft_lot15       21597 non-null int64\n",
      "dtypes: float64(8), int64(11), object(2)\n",
      "memory usage: 3.5+ MB\n"
     ]
    }
   ],
   "source": [
    "df.info()"
   ]
  },
  {
   "cell_type": "markdown",
   "metadata": {},
   "source": [
    "##### observations - we can do away with id since that is some kind of internal tracking convention, liklely specific to Kings County\n",
    "\n",
    "##### date is the date the home was sold; this should be more descriptive\n"
   ]
  },
  {
   "cell_type": "code",
   "execution_count": 5,
   "metadata": {},
   "outputs": [
    {
     "data": {
      "text/html": [
       "<div>\n",
       "<style scoped>\n",
       "    .dataframe tbody tr th:only-of-type {\n",
       "        vertical-align: middle;\n",
       "    }\n",
       "\n",
       "    .dataframe tbody tr th {\n",
       "        vertical-align: top;\n",
       "    }\n",
       "\n",
       "    .dataframe thead th {\n",
       "        text-align: right;\n",
       "    }\n",
       "</style>\n",
       "<table border=\"1\" class=\"dataframe\">\n",
       "  <thead>\n",
       "    <tr style=\"text-align: right;\">\n",
       "      <th></th>\n",
       "      <th>id</th>\n",
       "      <th>date_sold</th>\n",
       "      <th>price</th>\n",
       "      <th>bedrooms</th>\n",
       "      <th>bathrooms</th>\n",
       "      <th>sqft_living</th>\n",
       "      <th>sqft_lot</th>\n",
       "      <th>floors</th>\n",
       "      <th>waterfront</th>\n",
       "      <th>view</th>\n",
       "      <th>condition</th>\n",
       "      <th>grade</th>\n",
       "      <th>sqft_above</th>\n",
       "      <th>sqft_basement</th>\n",
       "      <th>yr_built</th>\n",
       "      <th>yr_renovated</th>\n",
       "      <th>zipcode</th>\n",
       "      <th>lat</th>\n",
       "      <th>long</th>\n",
       "      <th>sqft_living15</th>\n",
       "      <th>sqft_lot15</th>\n",
       "    </tr>\n",
       "  </thead>\n",
       "  <tbody>\n",
       "  </tbody>\n",
       "</table>\n",
       "</div>"
      ],
      "text/plain": [
       "Empty DataFrame\n",
       "Columns: [id, date_sold, price, bedrooms, bathrooms, sqft_living, sqft_lot, floors, waterfront, view, condition, grade, sqft_above, sqft_basement, yr_built, yr_renovated, zipcode, lat, long, sqft_living15, sqft_lot15]\n",
       "Index: []"
      ]
     },
     "execution_count": 5,
     "metadata": {},
     "output_type": "execute_result"
    }
   ],
   "source": [
    "df = df.rename({'date':'date_sold'}, axis = 1)  #rename date to date_sold\n",
    "df.head(0)"
   ]
  },
  {
   "cell_type": "code",
   "execution_count": 6,
   "metadata": {},
   "outputs": [],
   "source": [
    "df.drop(columns = 'id', inplace = True)"
   ]
  },
  {
   "cell_type": "markdown",
   "metadata": {},
   "source": [
    "<font color = 'green'> <font size = 5> **Deal with NaN values**"
   ]
  },
  {
   "cell_type": "code",
   "execution_count": 7,
   "metadata": {
    "scrolled": true
   },
   "outputs": [
    {
     "data": {
      "text/plain": [
       "date_sold           0\n",
       "price               0\n",
       "bedrooms            0\n",
       "bathrooms           0\n",
       "sqft_living         0\n",
       "sqft_lot            0\n",
       "floors              0\n",
       "waterfront       2376\n",
       "view               63\n",
       "condition           0\n",
       "grade               0\n",
       "sqft_above          0\n",
       "sqft_basement       0\n",
       "yr_built            0\n",
       "yr_renovated     3842\n",
       "zipcode             0\n",
       "lat                 0\n",
       "long                0\n",
       "sqft_living15       0\n",
       "sqft_lot15          0\n",
       "dtype: int64"
      ]
     },
     "execution_count": 7,
     "metadata": {},
     "output_type": "execute_result"
    }
   ],
   "source": [
    "df.isna().sum()"
   ]
  },
  {
   "cell_type": "markdown",
   "metadata": {},
   "source": [
    "##### lets inspect waterfront, view and yr_renovated and decide how to handle the respective null values"
   ]
  },
  {
   "cell_type": "markdown",
   "metadata": {},
   "source": [
    "###### waterfront"
   ]
  },
  {
   "cell_type": "code",
   "execution_count": 8,
   "metadata": {},
   "outputs": [
    {
     "data": {
      "text/plain": [
       "array([nan,  0.,  1.])"
      ]
     },
     "execution_count": 8,
     "metadata": {},
     "output_type": "execute_result"
    }
   ],
   "source": [
    "df.waterfront.unique()"
   ]
  },
  {
   "cell_type": "code",
   "execution_count": 9,
   "metadata": {},
   "outputs": [
    {
     "data": {
      "text/plain": [
       "0.0    19075\n",
       "1.0      146\n",
       "Name: waterfront, dtype: int64"
      ]
     },
     "execution_count": 9,
     "metadata": {},
     "output_type": "execute_result"
    }
   ],
   "source": [
    "df.waterfront.value_counts()"
   ]
  },
  {
   "cell_type": "markdown",
   "metadata": {},
   "source": [
    "11% of values in Waterfront are NaN; feels like too much to drop.  I will replace the NaN values with zero and<br>\n",
    "deal with outliers later in EDA/modeling"
   ]
  },
  {
   "cell_type": "code",
   "execution_count": 10,
   "metadata": {},
   "outputs": [],
   "source": [
    "df.waterfront = df.waterfront.fillna(0)"
   ]
  },
  {
   "cell_type": "markdown",
   "metadata": {},
   "source": [
    "###### view"
   ]
  },
  {
   "cell_type": "code",
   "execution_count": 11,
   "metadata": {},
   "outputs": [
    {
     "data": {
      "text/plain": [
       "array([ 0., nan,  3.,  4.,  2.,  1.])"
      ]
     },
     "execution_count": 11,
     "metadata": {},
     "output_type": "execute_result"
    }
   ],
   "source": [
    "df.view.unique()"
   ]
  },
  {
   "cell_type": "markdown",
   "metadata": {},
   "source": [
    "view has only 63 NaN rows; will drop them"
   ]
  },
  {
   "cell_type": "code",
   "execution_count": 12,
   "metadata": {},
   "outputs": [],
   "source": [
    "df = df.dropna(subset = [\"view\"])"
   ]
  },
  {
   "cell_type": "markdown",
   "metadata": {},
   "source": [
    "###### yr_renovated"
   ]
  },
  {
   "cell_type": "code",
   "execution_count": 13,
   "metadata": {},
   "outputs": [
    {
     "data": {
      "text/plain": [
       "array([   0., 1991.,   nan, 2002., 2010., 1992., 2013., 1994., 1978.,\n",
       "       2005., 2003., 1984., 1954., 2014., 2011., 1983., 1945., 1990.,\n",
       "       1988., 1977., 1981., 1995., 2000., 1999., 1998., 1970., 1989.,\n",
       "       2004., 1986., 2007., 1987., 2006., 1985., 2001., 1980., 1971.,\n",
       "       1979., 1997., 1950., 1969., 1948., 2009., 2015., 1974., 2008.,\n",
       "       1968., 2012., 1963., 1951., 1962., 1953., 1993., 1996., 1955.,\n",
       "       1982., 1956., 1940., 1976., 1946., 1975., 1964., 1973., 1957.,\n",
       "       1959., 1960., 1967., 1965., 1934., 1972., 1944., 1958.])"
      ]
     },
     "execution_count": 13,
     "metadata": {},
     "output_type": "execute_result"
    }
   ],
   "source": [
    "df.yr_renovated.unique()"
   ]
  },
  {
   "cell_type": "markdown",
   "metadata": {},
   "source": [
    "cannot remove 18% of data<br>\n",
    "doesn't make sense to imputate<br>\n",
    "will fill NaN values with zero (never been renovated) and handle outliers in EDA/modeling"
   ]
  },
  {
   "cell_type": "code",
   "execution_count": 14,
   "metadata": {},
   "outputs": [],
   "source": [
    "df.yr_renovated = df.yr_renovated.fillna(0)"
   ]
  },
  {
   "cell_type": "code",
   "execution_count": 15,
   "metadata": {},
   "outputs": [
    {
     "data": {
      "text/plain": [
       "date_sold        0\n",
       "price            0\n",
       "bedrooms         0\n",
       "bathrooms        0\n",
       "sqft_living      0\n",
       "sqft_lot         0\n",
       "floors           0\n",
       "waterfront       0\n",
       "view             0\n",
       "condition        0\n",
       "grade            0\n",
       "sqft_above       0\n",
       "sqft_basement    0\n",
       "yr_built         0\n",
       "yr_renovated     0\n",
       "zipcode          0\n",
       "lat              0\n",
       "long             0\n",
       "sqft_living15    0\n",
       "sqft_lot15       0\n",
       "dtype: int64"
      ]
     },
     "execution_count": 15,
     "metadata": {},
     "output_type": "execute_result"
    }
   ],
   "source": [
    "df.isna().sum()"
   ]
  },
  {
   "cell_type": "markdown",
   "metadata": {},
   "source": [
    "<font color = 'green'> <font size = 5> **Correct data types**"
   ]
  },
  {
   "cell_type": "markdown",
   "metadata": {},
   "source": [
    "can change to float or int, must deal with categoricals or date in EDA/modeling"
   ]
  },
  {
   "cell_type": "code",
   "execution_count": 16,
   "metadata": {},
   "outputs": [
    {
     "name": "stdout",
     "output_type": "stream",
     "text": [
      "<class 'pandas.core.frame.DataFrame'>\n",
      "Int64Index: 21534 entries, 0 to 21596\n",
      "Data columns (total 20 columns):\n",
      "date_sold        21534 non-null object\n",
      "price            21534 non-null float64\n",
      "bedrooms         21534 non-null int64\n",
      "bathrooms        21534 non-null float64\n",
      "sqft_living      21534 non-null int64\n",
      "sqft_lot         21534 non-null int64\n",
      "floors           21534 non-null float64\n",
      "waterfront       21534 non-null float64\n",
      "view             21534 non-null float64\n",
      "condition        21534 non-null int64\n",
      "grade            21534 non-null int64\n",
      "sqft_above       21534 non-null int64\n",
      "sqft_basement    21534 non-null object\n",
      "yr_built         21534 non-null int64\n",
      "yr_renovated     21534 non-null float64\n",
      "zipcode          21534 non-null int64\n",
      "lat              21534 non-null float64\n",
      "long             21534 non-null float64\n",
      "sqft_living15    21534 non-null int64\n",
      "sqft_lot15       21534 non-null int64\n",
      "dtypes: float64(8), int64(10), object(2)\n",
      "memory usage: 3.5+ MB\n"
     ]
    }
   ],
   "source": [
    "df.info()"
   ]
  },
  {
   "cell_type": "markdown",
   "metadata": {},
   "source": [
    "##### price"
   ]
  },
  {
   "cell_type": "code",
   "execution_count": 17,
   "metadata": {},
   "outputs": [
    {
     "data": {
      "text/plain": [
       "array([221900., 538000., 180000., ..., 594866., 541800., 402101.])"
      ]
     },
     "execution_count": 17,
     "metadata": {},
     "output_type": "execute_result"
    }
   ],
   "source": [
    "df.price.unique()"
   ]
  },
  {
   "cell_type": "markdown",
   "metadata": {},
   "source": [
    "price has a decimal at end so should be an int"
   ]
  },
  {
   "cell_type": "code",
   "execution_count": 18,
   "metadata": {},
   "outputs": [],
   "source": [
    "df.price = df.price.astype(\"int64\")"
   ]
  },
  {
   "cell_type": "markdown",
   "metadata": {},
   "source": [
    "\n",
    "\n",
    "view to int (categorical instead?) <br>\n",
    "sqft_basement to int<br>\n",
    "yr_renovated to int\n"
   ]
  },
  {
   "cell_type": "markdown",
   "metadata": {},
   "source": [
    "##### waterfront"
   ]
  },
  {
   "cell_type": "code",
   "execution_count": 19,
   "metadata": {},
   "outputs": [
    {
     "data": {
      "text/plain": [
       "array([0., 1.])"
      ]
     },
     "execution_count": 19,
     "metadata": {},
     "output_type": "execute_result"
    }
   ],
   "source": [
    "df.waterfront.unique()"
   ]
  },
  {
   "cell_type": "markdown",
   "metadata": {},
   "source": [
    "waterfront will become a category type later but for now will coerce to int"
   ]
  },
  {
   "cell_type": "code",
   "execution_count": 20,
   "metadata": {},
   "outputs": [],
   "source": [
    "df.waterfront = df.waterfront.astype(\"int64\")"
   ]
  },
  {
   "cell_type": "markdown",
   "metadata": {},
   "source": [
    "##### view"
   ]
  },
  {
   "cell_type": "code",
   "execution_count": 21,
   "metadata": {},
   "outputs": [
    {
     "data": {
      "text/plain": [
       "array([0., 3., 4., 2., 1.])"
      ]
     },
     "execution_count": 21,
     "metadata": {},
     "output_type": "execute_result"
    }
   ],
   "source": [
    "df.view.unique()"
   ]
  },
  {
   "cell_type": "markdown",
   "metadata": {},
   "source": [
    "view will become a category type later but for now will coerce to int."
   ]
  },
  {
   "cell_type": "code",
   "execution_count": 22,
   "metadata": {},
   "outputs": [],
   "source": [
    "df.view = df.view.astype(\"int64\")"
   ]
  },
  {
   "cell_type": "markdown",
   "metadata": {},
   "source": [
    "### sqft_basement"
   ]
  },
  {
   "cell_type": "code",
   "execution_count": 23,
   "metadata": {
    "scrolled": true
   },
   "outputs": [
    {
     "data": {
      "text/plain": [
       "array(['0.0', '400.0', '910.0', '1530.0', '?', '730.0', '1700.0', '300.0',\n",
       "       '970.0', '760.0', '720.0', '700.0', '820.0', '780.0', '790.0',\n",
       "       '330.0', '1620.0', '360.0', '588.0', '1510.0', '410.0', '990.0',\n",
       "       '600.0', '560.0', '550.0', '1000.0', '1600.0', '500.0', '1040.0',\n",
       "       '880.0', '1010.0', '240.0', '265.0', '290.0', '800.0', '540.0',\n",
       "       '840.0', '380.0', '770.0', '480.0', '570.0', '1490.0', '620.0',\n",
       "       '1250.0', '1270.0', '120.0', '650.0', '180.0', '1130.0', '450.0',\n",
       "       '1640.0', '1460.0', '1020.0', '1030.0', '750.0', '640.0', '1070.0',\n",
       "       '490.0', '1310.0', '630.0', '2000.0', '390.0', '430.0', '210.0',\n",
       "       '1430.0', '1950.0', '440.0', '220.0', '1160.0', '860.0', '580.0',\n",
       "       '2060.0', '1820.0', '1180.0', '200.0', '1150.0', '1200.0', '680.0',\n",
       "       '530.0', '1450.0', '1170.0', '1080.0', '960.0', '280.0', '870.0',\n",
       "       '1100.0', '460.0', '1400.0', '660.0', '1220.0', '900.0', '420.0',\n",
       "       '1580.0', '1380.0', '475.0', '690.0', '270.0', '350.0', '935.0',\n",
       "       '710.0', '1370.0', '980.0', '850.0', '1470.0', '160.0', '950.0',\n",
       "       '50.0', '740.0', '1780.0', '1900.0', '340.0', '470.0', '370.0',\n",
       "       '140.0', '1760.0', '130.0', '520.0', '890.0', '1110.0', '150.0',\n",
       "       '1720.0', '810.0', '190.0', '1290.0', '670.0', '1800.0', '1120.0',\n",
       "       '1810.0', '60.0', '1050.0', '940.0', '310.0', '930.0', '1390.0',\n",
       "       '610.0', '1830.0', '1300.0', '510.0', '1330.0', '1590.0', '920.0',\n",
       "       '1320.0', '1420.0', '1240.0', '1960.0', '1560.0', '2020.0',\n",
       "       '1190.0', '2110.0', '1280.0', '250.0', '1230.0', '170.0', '830.0',\n",
       "       '1260.0', '1410.0', '1340.0', '590.0', '1500.0', '1140.0', '260.0',\n",
       "       '100.0', '320.0', '1480.0', '1060.0', '1284.0', '1670.0', '1350.0',\n",
       "       '2570.0', '1090.0', '110.0', '2500.0', '90.0', '1940.0', '1550.0',\n",
       "       '2350.0', '2490.0', '1481.0', '1360.0', '1135.0', '1520.0',\n",
       "       '1850.0', '1660.0', '2130.0', '2600.0', '1690.0', '243.0',\n",
       "       '1210.0', '1024.0', '1798.0', '1610.0', '1440.0', '1570.0',\n",
       "       '1650.0', '704.0', '1910.0', '1630.0', '2360.0', '1852.0',\n",
       "       '2090.0', '2400.0', '1790.0', '2150.0', '230.0', '70.0', '1680.0',\n",
       "       '2100.0', '3000.0', '1870.0', '1710.0', '2030.0', '875.0',\n",
       "       '1540.0', '2850.0', '2170.0', '506.0', '906.0', '145.0', '2040.0',\n",
       "       '784.0', '1750.0', '374.0', '518.0', '2720.0', '2730.0', '1840.0',\n",
       "       '3480.0', '2160.0', '1920.0', '2330.0', '1860.0', '2050.0',\n",
       "       '4820.0', '1913.0', '80.0', '2010.0', '3260.0', '2200.0', '415.0',\n",
       "       '1730.0', '652.0', '2196.0', '1930.0', '515.0', '40.0', '2080.0',\n",
       "       '2580.0', '1548.0', '1740.0', '235.0', '861.0', '1890.0', '2220.0',\n",
       "       '792.0', '2070.0', '4130.0', '2250.0', '2240.0', '1990.0', '768.0',\n",
       "       '2550.0', '435.0', '1008.0', '2300.0', '2610.0', '666.0', '3500.0',\n",
       "       '172.0', '1816.0', '2190.0', '1245.0', '1525.0', '1880.0', '862.0',\n",
       "       '946.0', '1281.0', '414.0', '276.0', '1248.0', '602.0', '516.0',\n",
       "       '176.0', '225.0', '1275.0', '266.0', '283.0', '65.0', '2310.0',\n",
       "       '10.0', '1770.0', '2120.0', '295.0', '207.0', '915.0', '556.0',\n",
       "       '417.0', '143.0', '508.0', '2810.0', '20.0', '274.0', '248.0'],\n",
       "      dtype=object)"
      ]
     },
     "execution_count": 23,
     "metadata": {},
     "output_type": "execute_result"
    }
   ],
   "source": [
    "df.sqft_basement.unique()"
   ]
  },
  {
   "cell_type": "markdown",
   "metadata": {},
   "source": [
    "basement feature has 452 queustion mark place-holders<br>\n",
    "remove column, remove records or imputate?<br>\n",
    "\n",
    "\n",
    "could delete the 452 observations since its only 2% of the dataset though, I think its reasonable to imputate<br>\n",
    "with the column median, exclusing the zero values; the thinking being that if they did not have a basement, then their answer would have been an obvious zero<br>\n",
    "though, they likely did not know the square footage, hence, the question mark.  I will imputate with median"
   ]
  },
  {
   "cell_type": "markdown",
   "metadata": {},
   "source": [
    "##### find median value for sqft_basement after taking out the \"?\" and zeros "
   ]
  },
  {
   "cell_type": "code",
   "execution_count": 24,
   "metadata": {},
   "outputs": [],
   "source": [
    "df_adhoc = df[df.sqft_basement != '0.0']"
   ]
  },
  {
   "cell_type": "code",
   "execution_count": 25,
   "metadata": {},
   "outputs": [],
   "source": [
    "df_adhoc = df_adhoc[df_adhoc.sqft_basement != '?']"
   ]
  },
  {
   "cell_type": "code",
   "execution_count": 26,
   "metadata": {
    "scrolled": true
   },
   "outputs": [
    {
     "data": {
      "text/plain": [
       "array(['400.0', '910.0', '1530.0', '730.0', '1700.0', '300.0', '970.0',\n",
       "       '760.0', '720.0', '700.0', '820.0', '780.0', '790.0', '330.0',\n",
       "       '1620.0', '360.0', '588.0', '1510.0', '410.0', '990.0', '600.0',\n",
       "       '560.0', '550.0', '1000.0', '1600.0', '500.0', '1040.0', '880.0',\n",
       "       '1010.0', '240.0', '265.0', '290.0', '800.0', '540.0', '840.0',\n",
       "       '380.0', '770.0', '480.0', '570.0', '1490.0', '620.0', '1250.0',\n",
       "       '1270.0', '120.0', '650.0', '180.0', '1130.0', '450.0', '1640.0',\n",
       "       '1460.0', '1020.0', '1030.0', '750.0', '640.0', '1070.0', '490.0',\n",
       "       '1310.0', '630.0', '2000.0', '390.0', '430.0', '210.0', '1430.0',\n",
       "       '1950.0', '440.0', '220.0', '1160.0', '860.0', '580.0', '2060.0',\n",
       "       '1820.0', '1180.0', '200.0', '1150.0', '1200.0', '680.0', '530.0',\n",
       "       '1450.0', '1170.0', '1080.0', '960.0', '280.0', '870.0', '1100.0',\n",
       "       '460.0', '1400.0', '660.0', '1220.0', '900.0', '420.0', '1580.0',\n",
       "       '1380.0', '475.0', '690.0', '270.0', '350.0', '935.0', '710.0',\n",
       "       '1370.0', '980.0', '850.0', '1470.0', '160.0', '950.0', '50.0',\n",
       "       '740.0', '1780.0', '1900.0', '340.0', '470.0', '370.0', '140.0',\n",
       "       '1760.0', '130.0', '520.0', '890.0', '1110.0', '150.0', '1720.0',\n",
       "       '810.0', '190.0', '1290.0', '670.0', '1800.0', '1120.0', '1810.0',\n",
       "       '60.0', '1050.0', '940.0', '310.0', '930.0', '1390.0', '610.0',\n",
       "       '1830.0', '1300.0', '510.0', '1330.0', '1590.0', '920.0', '1320.0',\n",
       "       '1420.0', '1240.0', '1960.0', '1560.0', '2020.0', '1190.0',\n",
       "       '2110.0', '1280.0', '250.0', '1230.0', '170.0', '830.0', '1260.0',\n",
       "       '1410.0', '1340.0', '590.0', '1500.0', '1140.0', '260.0', '100.0',\n",
       "       '320.0', '1480.0', '1060.0', '1284.0', '1670.0', '1350.0',\n",
       "       '2570.0', '1090.0', '110.0', '2500.0', '90.0', '1940.0', '1550.0',\n",
       "       '2350.0', '2490.0', '1481.0', '1360.0', '1135.0', '1520.0',\n",
       "       '1850.0', '1660.0', '2130.0', '2600.0', '1690.0', '243.0',\n",
       "       '1210.0', '1024.0', '1798.0', '1610.0', '1440.0', '1570.0',\n",
       "       '1650.0', '704.0', '1910.0', '1630.0', '2360.0', '1852.0',\n",
       "       '2090.0', '2400.0', '1790.0', '2150.0', '230.0', '70.0', '1680.0',\n",
       "       '2100.0', '3000.0', '1870.0', '1710.0', '2030.0', '875.0',\n",
       "       '1540.0', '2850.0', '2170.0', '506.0', '906.0', '145.0', '2040.0',\n",
       "       '784.0', '1750.0', '374.0', '518.0', '2720.0', '2730.0', '1840.0',\n",
       "       '3480.0', '2160.0', '1920.0', '2330.0', '1860.0', '2050.0',\n",
       "       '4820.0', '1913.0', '80.0', '2010.0', '3260.0', '2200.0', '415.0',\n",
       "       '1730.0', '652.0', '2196.0', '1930.0', '515.0', '40.0', '2080.0',\n",
       "       '2580.0', '1548.0', '1740.0', '235.0', '861.0', '1890.0', '2220.0',\n",
       "       '792.0', '2070.0', '4130.0', '2250.0', '2240.0', '1990.0', '768.0',\n",
       "       '2550.0', '435.0', '1008.0', '2300.0', '2610.0', '666.0', '3500.0',\n",
       "       '172.0', '1816.0', '2190.0', '1245.0', '1525.0', '1880.0', '862.0',\n",
       "       '946.0', '1281.0', '414.0', '276.0', '1248.0', '602.0', '516.0',\n",
       "       '176.0', '225.0', '1275.0', '266.0', '283.0', '65.0', '2310.0',\n",
       "       '10.0', '1770.0', '2120.0', '295.0', '207.0', '915.0', '556.0',\n",
       "       '417.0', '143.0', '508.0', '2810.0', '20.0', '274.0', '248.0'],\n",
       "      dtype=object)"
      ]
     },
     "execution_count": 26,
     "metadata": {},
     "output_type": "execute_result"
    }
   ],
   "source": [
    "df_adhoc.sqft_basement.unique()"
   ]
  },
  {
   "cell_type": "code",
   "execution_count": 27,
   "metadata": {},
   "outputs": [],
   "source": [
    "df_adhoc.sqft_basement = df_adhoc.sqft_basement.astype(\"float64\")"
   ]
  },
  {
   "cell_type": "code",
   "execution_count": 28,
   "metadata": {},
   "outputs": [
    {
     "data": {
      "text/plain": [
       "700.0"
      ]
     },
     "execution_count": 28,
     "metadata": {},
     "output_type": "execute_result"
    }
   ],
   "source": [
    "df_adhoc.sqft_basement.median()"
   ]
  },
  {
   "cell_type": "markdown",
   "metadata": {},
   "source": [
    "##### median value for sqft_basement is 700; will replace all \"?\" with 700"
   ]
  },
  {
   "cell_type": "code",
   "execution_count": 29,
   "metadata": {},
   "outputs": [],
   "source": [
    "df.sqft_basement = df.sqft_basement.replace(\"?\", 700)"
   ]
  },
  {
   "cell_type": "code",
   "execution_count": 30,
   "metadata": {},
   "outputs": [
    {
     "data": {
      "text/plain": [
       "array(['0.0', '400.0', '910.0', '1530.0', 700, '730.0', '1700.0', '300.0',\n",
       "       '970.0', '760.0', '720.0', '700.0', '820.0', '780.0', '790.0',\n",
       "       '330.0', '1620.0', '360.0', '588.0', '1510.0', '410.0', '990.0',\n",
       "       '600.0', '560.0', '550.0', '1000.0', '1600.0', '500.0', '1040.0',\n",
       "       '880.0', '1010.0', '240.0', '265.0', '290.0', '800.0', '540.0',\n",
       "       '840.0', '380.0', '770.0', '480.0', '570.0', '1490.0', '620.0',\n",
       "       '1250.0', '1270.0', '120.0', '650.0', '180.0', '1130.0', '450.0',\n",
       "       '1640.0', '1460.0', '1020.0', '1030.0', '750.0', '640.0', '1070.0',\n",
       "       '490.0', '1310.0', '630.0', '2000.0', '390.0', '430.0', '210.0',\n",
       "       '1430.0', '1950.0', '440.0', '220.0', '1160.0', '860.0', '580.0',\n",
       "       '2060.0', '1820.0', '1180.0', '200.0', '1150.0', '1200.0', '680.0',\n",
       "       '530.0', '1450.0', '1170.0', '1080.0', '960.0', '280.0', '870.0',\n",
       "       '1100.0', '460.0', '1400.0', '660.0', '1220.0', '900.0', '420.0',\n",
       "       '1580.0', '1380.0', '475.0', '690.0', '270.0', '350.0', '935.0',\n",
       "       '710.0', '1370.0', '980.0', '850.0', '1470.0', '160.0', '950.0',\n",
       "       '50.0', '740.0', '1780.0', '1900.0', '340.0', '470.0', '370.0',\n",
       "       '140.0', '1760.0', '130.0', '520.0', '890.0', '1110.0', '150.0',\n",
       "       '1720.0', '810.0', '190.0', '1290.0', '670.0', '1800.0', '1120.0',\n",
       "       '1810.0', '60.0', '1050.0', '940.0', '310.0', '930.0', '1390.0',\n",
       "       '610.0', '1830.0', '1300.0', '510.0', '1330.0', '1590.0', '920.0',\n",
       "       '1320.0', '1420.0', '1240.0', '1960.0', '1560.0', '2020.0',\n",
       "       '1190.0', '2110.0', '1280.0', '250.0', '1230.0', '170.0', '830.0',\n",
       "       '1260.0', '1410.0', '1340.0', '590.0', '1500.0', '1140.0', '260.0',\n",
       "       '100.0', '320.0', '1480.0', '1060.0', '1284.0', '1670.0', '1350.0',\n",
       "       '2570.0', '1090.0', '110.0', '2500.0', '90.0', '1940.0', '1550.0',\n",
       "       '2350.0', '2490.0', '1481.0', '1360.0', '1135.0', '1520.0',\n",
       "       '1850.0', '1660.0', '2130.0', '2600.0', '1690.0', '243.0',\n",
       "       '1210.0', '1024.0', '1798.0', '1610.0', '1440.0', '1570.0',\n",
       "       '1650.0', '704.0', '1910.0', '1630.0', '2360.0', '1852.0',\n",
       "       '2090.0', '2400.0', '1790.0', '2150.0', '230.0', '70.0', '1680.0',\n",
       "       '2100.0', '3000.0', '1870.0', '1710.0', '2030.0', '875.0',\n",
       "       '1540.0', '2850.0', '2170.0', '506.0', '906.0', '145.0', '2040.0',\n",
       "       '784.0', '1750.0', '374.0', '518.0', '2720.0', '2730.0', '1840.0',\n",
       "       '3480.0', '2160.0', '1920.0', '2330.0', '1860.0', '2050.0',\n",
       "       '4820.0', '1913.0', '80.0', '2010.0', '3260.0', '2200.0', '415.0',\n",
       "       '1730.0', '652.0', '2196.0', '1930.0', '515.0', '40.0', '2080.0',\n",
       "       '2580.0', '1548.0', '1740.0', '235.0', '861.0', '1890.0', '2220.0',\n",
       "       '792.0', '2070.0', '4130.0', '2250.0', '2240.0', '1990.0', '768.0',\n",
       "       '2550.0', '435.0', '1008.0', '2300.0', '2610.0', '666.0', '3500.0',\n",
       "       '172.0', '1816.0', '2190.0', '1245.0', '1525.0', '1880.0', '862.0',\n",
       "       '946.0', '1281.0', '414.0', '276.0', '1248.0', '602.0', '516.0',\n",
       "       '176.0', '225.0', '1275.0', '266.0', '283.0', '65.0', '2310.0',\n",
       "       '10.0', '1770.0', '2120.0', '295.0', '207.0', '915.0', '556.0',\n",
       "       '417.0', '143.0', '508.0', '2810.0', '20.0', '274.0', '248.0'],\n",
       "      dtype=object)"
      ]
     },
     "execution_count": 30,
     "metadata": {},
     "output_type": "execute_result"
    }
   ],
   "source": [
    "df.sqft_basement.unique()"
   ]
  },
  {
   "cell_type": "code",
   "execution_count": 31,
   "metadata": {},
   "outputs": [
    {
     "name": "stdout",
     "output_type": "stream",
     "text": [
      "<class 'pandas.core.frame.DataFrame'>\n",
      "Int64Index: 21534 entries, 0 to 21596\n",
      "Data columns (total 20 columns):\n",
      "date_sold        21534 non-null object\n",
      "price            21534 non-null int64\n",
      "bedrooms         21534 non-null int64\n",
      "bathrooms        21534 non-null float64\n",
      "sqft_living      21534 non-null int64\n",
      "sqft_lot         21534 non-null int64\n",
      "floors           21534 non-null float64\n",
      "waterfront       21534 non-null int64\n",
      "view             21534 non-null int64\n",
      "condition        21534 non-null int64\n",
      "grade            21534 non-null int64\n",
      "sqft_above       21534 non-null int64\n",
      "sqft_basement    21534 non-null object\n",
      "yr_built         21534 non-null int64\n",
      "yr_renovated     21534 non-null float64\n",
      "zipcode          21534 non-null int64\n",
      "lat              21534 non-null float64\n",
      "long             21534 non-null float64\n",
      "sqft_living15    21534 non-null int64\n",
      "sqft_lot15       21534 non-null int64\n",
      "dtypes: float64(5), int64(13), object(2)\n",
      "memory usage: 3.5+ MB\n"
     ]
    }
   ],
   "source": [
    "df.info()"
   ]
  },
  {
   "cell_type": "code",
   "execution_count": 32,
   "metadata": {},
   "outputs": [],
   "source": [
    "df.sqft_basement = df.sqft_basement.astype(\"float64\")"
   ]
  },
  {
   "cell_type": "code",
   "execution_count": 33,
   "metadata": {},
   "outputs": [],
   "source": [
    "df.sqft_basement = df.sqft_basement.astype(\"int64\")"
   ]
  },
  {
   "cell_type": "markdown",
   "metadata": {},
   "source": [
    "##### yr_renovated"
   ]
  },
  {
   "cell_type": "code",
   "execution_count": 34,
   "metadata": {
    "scrolled": false
   },
   "outputs": [
    {
     "data": {
      "text/plain": [
       "array([   0., 1991., 2002., 2010., 1992., 2013., 1994., 1978., 2005.,\n",
       "       2003., 1984., 1954., 2014., 2011., 1983., 1945., 1990., 1988.,\n",
       "       1977., 1981., 1995., 2000., 1999., 1998., 1970., 1989., 2004.,\n",
       "       1986., 2007., 1987., 2006., 1985., 2001., 1980., 1971., 1979.,\n",
       "       1997., 1950., 1969., 1948., 2009., 2015., 1974., 2008., 1968.,\n",
       "       2012., 1963., 1951., 1962., 1953., 1993., 1996., 1955., 1982.,\n",
       "       1956., 1940., 1976., 1946., 1975., 1964., 1973., 1957., 1959.,\n",
       "       1960., 1967., 1965., 1934., 1972., 1944., 1958.])"
      ]
     },
     "execution_count": 34,
     "metadata": {},
     "output_type": "execute_result"
    }
   ],
   "source": [
    "df.yr_renovated.unique()"
   ]
  },
  {
   "cell_type": "code",
   "execution_count": 35,
   "metadata": {},
   "outputs": [],
   "source": [
    "df.yr_renovated = df.yr_renovated.astype(\"int64\")"
   ]
  },
  {
   "cell_type": "markdown",
   "metadata": {},
   "source": [
    "##### save cleaned data to new csv file"
   ]
  },
  {
   "cell_type": "code",
   "execution_count": 36,
   "metadata": {},
   "outputs": [],
   "source": [
    "df.to_csv(\"cleaned_kc_housing_data.csv\")"
   ]
  },
  {
   "cell_type": "markdown",
   "metadata": {},
   "source": [
    "\n",
    "<font color = 'red'><font size = 5>***END DATA SCRUB***\n"
   ]
  },
  {
   "cell_type": "markdown",
   "metadata": {},
   "source": [
    "<font color = 'green'><font size = 5> **Begin check for multicoliniarity**"
   ]
  },
  {
   "cell_type": "code",
   "execution_count": 37,
   "metadata": {},
   "outputs": [
    {
     "data": {
      "text/html": [
       "<div>\n",
       "<style scoped>\n",
       "    .dataframe tbody tr th:only-of-type {\n",
       "        vertical-align: middle;\n",
       "    }\n",
       "\n",
       "    .dataframe tbody tr th {\n",
       "        vertical-align: top;\n",
       "    }\n",
       "\n",
       "    .dataframe thead th {\n",
       "        text-align: right;\n",
       "    }\n",
       "</style>\n",
       "<table border=\"1\" class=\"dataframe\">\n",
       "  <thead>\n",
       "    <tr style=\"text-align: right;\">\n",
       "      <th></th>\n",
       "      <th>price</th>\n",
       "      <th>bedrooms</th>\n",
       "      <th>bathrooms</th>\n",
       "      <th>sqft_living</th>\n",
       "      <th>sqft_lot</th>\n",
       "      <th>floors</th>\n",
       "      <th>waterfront</th>\n",
       "      <th>view</th>\n",
       "      <th>condition</th>\n",
       "      <th>grade</th>\n",
       "      <th>sqft_above</th>\n",
       "      <th>sqft_basement</th>\n",
       "      <th>yr_built</th>\n",
       "      <th>yr_renovated</th>\n",
       "      <th>zipcode</th>\n",
       "      <th>lat</th>\n",
       "      <th>long</th>\n",
       "      <th>sqft_living15</th>\n",
       "      <th>sqft_lot15</th>\n",
       "    </tr>\n",
       "  </thead>\n",
       "  <tbody>\n",
       "    <tr>\n",
       "      <th>price</th>\n",
       "      <td>1.000000</td>\n",
       "      <td>0.308063</td>\n",
       "      <td>0.525053</td>\n",
       "      <td>0.701587</td>\n",
       "      <td>0.090338</td>\n",
       "      <td>0.257052</td>\n",
       "      <td>0.259220</td>\n",
       "      <td>0.395734</td>\n",
       "      <td>0.035393</td>\n",
       "      <td>0.668307</td>\n",
       "      <td>0.605695</td>\n",
       "      <td>0.316894</td>\n",
       "      <td>0.054273</td>\n",
       "      <td>0.117982</td>\n",
       "      <td>-0.053620</td>\n",
       "      <td>0.307868</td>\n",
       "      <td>0.022417</td>\n",
       "      <td>0.585304</td>\n",
       "      <td>0.083189</td>\n",
       "    </tr>\n",
       "    <tr>\n",
       "      <th>bedrooms</th>\n",
       "      <td>0.308063</td>\n",
       "      <td>1.000000</td>\n",
       "      <td>0.514368</td>\n",
       "      <td>0.577934</td>\n",
       "      <td>0.032735</td>\n",
       "      <td>0.177391</td>\n",
       "      <td>-0.003733</td>\n",
       "      <td>0.078523</td>\n",
       "      <td>0.026402</td>\n",
       "      <td>0.356095</td>\n",
       "      <td>0.479148</td>\n",
       "      <td>0.296325</td>\n",
       "      <td>0.155462</td>\n",
       "      <td>0.017797</td>\n",
       "      <td>-0.153990</td>\n",
       "      <td>-0.010415</td>\n",
       "      <td>0.132318</td>\n",
       "      <td>0.392874</td>\n",
       "      <td>0.030952</td>\n",
       "    </tr>\n",
       "    <tr>\n",
       "      <th>bathrooms</th>\n",
       "      <td>0.525053</td>\n",
       "      <td>0.514368</td>\n",
       "      <td>1.000000</td>\n",
       "      <td>0.755277</td>\n",
       "      <td>0.088921</td>\n",
       "      <td>0.502285</td>\n",
       "      <td>0.061115</td>\n",
       "      <td>0.186451</td>\n",
       "      <td>-0.126682</td>\n",
       "      <td>0.665312</td>\n",
       "      <td>0.686173</td>\n",
       "      <td>0.275965</td>\n",
       "      <td>0.507565</td>\n",
       "      <td>0.046955</td>\n",
       "      <td>-0.204435</td>\n",
       "      <td>0.024487</td>\n",
       "      <td>0.225025</td>\n",
       "      <td>0.569139</td>\n",
       "      <td>0.088854</td>\n",
       "    </tr>\n",
       "    <tr>\n",
       "      <th>sqft_living</th>\n",
       "      <td>0.701587</td>\n",
       "      <td>0.577934</td>\n",
       "      <td>0.755277</td>\n",
       "      <td>1.000000</td>\n",
       "      <td>0.173768</td>\n",
       "      <td>0.353529</td>\n",
       "      <td>0.101982</td>\n",
       "      <td>0.282532</td>\n",
       "      <td>-0.059783</td>\n",
       "      <td>0.762398</td>\n",
       "      <td>0.876553</td>\n",
       "      <td>0.424665</td>\n",
       "      <td>0.318217</td>\n",
       "      <td>0.050871</td>\n",
       "      <td>-0.199839</td>\n",
       "      <td>0.052383</td>\n",
       "      <td>0.241856</td>\n",
       "      <td>0.756208</td>\n",
       "      <td>0.184801</td>\n",
       "    </tr>\n",
       "    <tr>\n",
       "      <th>sqft_lot</th>\n",
       "      <td>0.090338</td>\n",
       "      <td>0.032735</td>\n",
       "      <td>0.088921</td>\n",
       "      <td>0.173768</td>\n",
       "      <td>1.000000</td>\n",
       "      <td>-0.005025</td>\n",
       "      <td>0.021465</td>\n",
       "      <td>0.075298</td>\n",
       "      <td>-0.008375</td>\n",
       "      <td>0.115122</td>\n",
       "      <td>0.184325</td>\n",
       "      <td>0.015519</td>\n",
       "      <td>0.052646</td>\n",
       "      <td>0.005091</td>\n",
       "      <td>-0.129846</td>\n",
       "      <td>-0.085143</td>\n",
       "      <td>0.230137</td>\n",
       "      <td>0.145142</td>\n",
       "      <td>0.717095</td>\n",
       "    </tr>\n",
       "    <tr>\n",
       "      <th>floors</th>\n",
       "      <td>0.257052</td>\n",
       "      <td>0.177391</td>\n",
       "      <td>0.502285</td>\n",
       "      <td>0.353529</td>\n",
       "      <td>-0.005025</td>\n",
       "      <td>1.000000</td>\n",
       "      <td>0.020357</td>\n",
       "      <td>0.028436</td>\n",
       "      <td>-0.264138</td>\n",
       "      <td>0.458694</td>\n",
       "      <td>0.523367</td>\n",
       "      <td>-0.239841</td>\n",
       "      <td>0.489410</td>\n",
       "      <td>0.003317</td>\n",
       "      <td>-0.058966</td>\n",
       "      <td>0.049419</td>\n",
       "      <td>0.125329</td>\n",
       "      <td>0.279176</td>\n",
       "      <td>-0.010850</td>\n",
       "    </tr>\n",
       "    <tr>\n",
       "      <th>waterfront</th>\n",
       "      <td>0.259220</td>\n",
       "      <td>-0.003733</td>\n",
       "      <td>0.061115</td>\n",
       "      <td>0.101982</td>\n",
       "      <td>0.021465</td>\n",
       "      <td>0.020357</td>\n",
       "      <td>1.000000</td>\n",
       "      <td>0.382000</td>\n",
       "      <td>0.016224</td>\n",
       "      <td>0.081195</td>\n",
       "      <td>0.069931</td>\n",
       "      <td>0.081428</td>\n",
       "      <td>-0.025000</td>\n",
       "      <td>0.074327</td>\n",
       "      <td>0.029490</td>\n",
       "      <td>-0.012282</td>\n",
       "      <td>-0.037845</td>\n",
       "      <td>0.082352</td>\n",
       "      <td>0.030605</td>\n",
       "    </tr>\n",
       "    <tr>\n",
       "      <th>view</th>\n",
       "      <td>0.395734</td>\n",
       "      <td>0.078523</td>\n",
       "      <td>0.186451</td>\n",
       "      <td>0.282532</td>\n",
       "      <td>0.075298</td>\n",
       "      <td>0.028436</td>\n",
       "      <td>0.382000</td>\n",
       "      <td>1.000000</td>\n",
       "      <td>0.045735</td>\n",
       "      <td>0.249727</td>\n",
       "      <td>0.166299</td>\n",
       "      <td>0.271596</td>\n",
       "      <td>-0.054564</td>\n",
       "      <td>0.090324</td>\n",
       "      <td>0.085277</td>\n",
       "      <td>0.006141</td>\n",
       "      <td>-0.077894</td>\n",
       "      <td>0.279561</td>\n",
       "      <td>0.073332</td>\n",
       "    </tr>\n",
       "    <tr>\n",
       "      <th>condition</th>\n",
       "      <td>0.035393</td>\n",
       "      <td>0.026402</td>\n",
       "      <td>-0.126682</td>\n",
       "      <td>-0.059783</td>\n",
       "      <td>-0.008375</td>\n",
       "      <td>-0.264138</td>\n",
       "      <td>0.016224</td>\n",
       "      <td>0.045735</td>\n",
       "      <td>1.000000</td>\n",
       "      <td>-0.147326</td>\n",
       "      <td>-0.158830</td>\n",
       "      <td>0.166911</td>\n",
       "      <td>-0.361398</td>\n",
       "      <td>-0.055730</td>\n",
       "      <td>0.002125</td>\n",
       "      <td>-0.015594</td>\n",
       "      <td>-0.105475</td>\n",
       "      <td>-0.093172</td>\n",
       "      <td>-0.002702</td>\n",
       "    </tr>\n",
       "    <tr>\n",
       "      <th>grade</th>\n",
       "      <td>0.668307</td>\n",
       "      <td>0.356095</td>\n",
       "      <td>0.665312</td>\n",
       "      <td>0.762398</td>\n",
       "      <td>0.115122</td>\n",
       "      <td>0.458694</td>\n",
       "      <td>0.081195</td>\n",
       "      <td>0.249727</td>\n",
       "      <td>-0.147326</td>\n",
       "      <td>1.000000</td>\n",
       "      <td>0.755977</td>\n",
       "      <td>0.163172</td>\n",
       "      <td>0.448255</td>\n",
       "      <td>0.015235</td>\n",
       "      <td>-0.185710</td>\n",
       "      <td>0.113787</td>\n",
       "      <td>0.200821</td>\n",
       "      <td>0.713462</td>\n",
       "      <td>0.121435</td>\n",
       "    </tr>\n",
       "    <tr>\n",
       "      <th>sqft_above</th>\n",
       "      <td>0.605695</td>\n",
       "      <td>0.479148</td>\n",
       "      <td>0.686173</td>\n",
       "      <td>0.876553</td>\n",
       "      <td>0.184325</td>\n",
       "      <td>0.523367</td>\n",
       "      <td>0.069931</td>\n",
       "      <td>0.166299</td>\n",
       "      <td>-0.158830</td>\n",
       "      <td>0.755977</td>\n",
       "      <td>1.000000</td>\n",
       "      <td>-0.052896</td>\n",
       "      <td>0.423999</td>\n",
       "      <td>0.020216</td>\n",
       "      <td>-0.261480</td>\n",
       "      <td>-0.000889</td>\n",
       "      <td>0.345051</td>\n",
       "      <td>0.731543</td>\n",
       "      <td>0.195413</td>\n",
       "    </tr>\n",
       "    <tr>\n",
       "      <th>sqft_basement</th>\n",
       "      <td>0.316894</td>\n",
       "      <td>0.296325</td>\n",
       "      <td>0.275965</td>\n",
       "      <td>0.424665</td>\n",
       "      <td>0.015519</td>\n",
       "      <td>-0.239841</td>\n",
       "      <td>0.081428</td>\n",
       "      <td>0.271596</td>\n",
       "      <td>0.166911</td>\n",
       "      <td>0.163172</td>\n",
       "      <td>-0.052896</td>\n",
       "      <td>1.000000</td>\n",
       "      <td>-0.131021</td>\n",
       "      <td>0.067294</td>\n",
       "      <td>0.075404</td>\n",
       "      <td>0.107173</td>\n",
       "      <td>-0.142465</td>\n",
       "      <td>0.196138</td>\n",
       "      <td>0.016936</td>\n",
       "    </tr>\n",
       "    <tr>\n",
       "      <th>yr_built</th>\n",
       "      <td>0.054273</td>\n",
       "      <td>0.155462</td>\n",
       "      <td>0.507565</td>\n",
       "      <td>0.318217</td>\n",
       "      <td>0.052646</td>\n",
       "      <td>0.489410</td>\n",
       "      <td>-0.025000</td>\n",
       "      <td>-0.054564</td>\n",
       "      <td>-0.361398</td>\n",
       "      <td>0.448255</td>\n",
       "      <td>0.423999</td>\n",
       "      <td>-0.131021</td>\n",
       "      <td>1.000000</td>\n",
       "      <td>-0.202467</td>\n",
       "      <td>-0.346585</td>\n",
       "      <td>-0.147850</td>\n",
       "      <td>0.409666</td>\n",
       "      <td>0.326539</td>\n",
       "      <td>0.070562</td>\n",
       "    </tr>\n",
       "    <tr>\n",
       "      <th>yr_renovated</th>\n",
       "      <td>0.117982</td>\n",
       "      <td>0.017797</td>\n",
       "      <td>0.046955</td>\n",
       "      <td>0.050871</td>\n",
       "      <td>0.005091</td>\n",
       "      <td>0.003317</td>\n",
       "      <td>0.074327</td>\n",
       "      <td>0.090324</td>\n",
       "      <td>-0.055730</td>\n",
       "      <td>0.015235</td>\n",
       "      <td>0.020216</td>\n",
       "      <td>0.067294</td>\n",
       "      <td>-0.202467</td>\n",
       "      <td>1.000000</td>\n",
       "      <td>0.062422</td>\n",
       "      <td>0.027792</td>\n",
       "      <td>-0.064546</td>\n",
       "      <td>0.000308</td>\n",
       "      <td>0.004413</td>\n",
       "    </tr>\n",
       "    <tr>\n",
       "      <th>zipcode</th>\n",
       "      <td>-0.053620</td>\n",
       "      <td>-0.153990</td>\n",
       "      <td>-0.204435</td>\n",
       "      <td>-0.199839</td>\n",
       "      <td>-0.129846</td>\n",
       "      <td>-0.058966</td>\n",
       "      <td>0.029490</td>\n",
       "      <td>0.085277</td>\n",
       "      <td>0.002125</td>\n",
       "      <td>-0.185710</td>\n",
       "      <td>-0.261480</td>\n",
       "      <td>0.075404</td>\n",
       "      <td>-0.346585</td>\n",
       "      <td>0.062422</td>\n",
       "      <td>1.000000</td>\n",
       "      <td>0.266595</td>\n",
       "      <td>-0.564279</td>\n",
       "      <td>-0.279375</td>\n",
       "      <td>-0.147519</td>\n",
       "    </tr>\n",
       "    <tr>\n",
       "      <th>lat</th>\n",
       "      <td>0.307868</td>\n",
       "      <td>-0.010415</td>\n",
       "      <td>0.024487</td>\n",
       "      <td>0.052383</td>\n",
       "      <td>-0.085143</td>\n",
       "      <td>0.049419</td>\n",
       "      <td>-0.012282</td>\n",
       "      <td>0.006141</td>\n",
       "      <td>-0.015594</td>\n",
       "      <td>0.113787</td>\n",
       "      <td>-0.000889</td>\n",
       "      <td>0.107173</td>\n",
       "      <td>-0.147850</td>\n",
       "      <td>0.027792</td>\n",
       "      <td>0.266595</td>\n",
       "      <td>1.000000</td>\n",
       "      <td>-0.135439</td>\n",
       "      <td>0.048569</td>\n",
       "      <td>-0.086035</td>\n",
       "    </tr>\n",
       "    <tr>\n",
       "      <th>long</th>\n",
       "      <td>0.022417</td>\n",
       "      <td>0.132318</td>\n",
       "      <td>0.225025</td>\n",
       "      <td>0.241856</td>\n",
       "      <td>0.230137</td>\n",
       "      <td>0.125329</td>\n",
       "      <td>-0.037845</td>\n",
       "      <td>-0.077894</td>\n",
       "      <td>-0.105475</td>\n",
       "      <td>0.200821</td>\n",
       "      <td>0.345051</td>\n",
       "      <td>-0.142465</td>\n",
       "      <td>0.409666</td>\n",
       "      <td>-0.064546</td>\n",
       "      <td>-0.564279</td>\n",
       "      <td>-0.135439</td>\n",
       "      <td>1.000000</td>\n",
       "      <td>0.336019</td>\n",
       "      <td>0.255283</td>\n",
       "    </tr>\n",
       "    <tr>\n",
       "      <th>sqft_living15</th>\n",
       "      <td>0.585304</td>\n",
       "      <td>0.392874</td>\n",
       "      <td>0.569139</td>\n",
       "      <td>0.756208</td>\n",
       "      <td>0.145142</td>\n",
       "      <td>0.279176</td>\n",
       "      <td>0.082352</td>\n",
       "      <td>0.279561</td>\n",
       "      <td>-0.093172</td>\n",
       "      <td>0.713462</td>\n",
       "      <td>0.731543</td>\n",
       "      <td>0.196138</td>\n",
       "      <td>0.326539</td>\n",
       "      <td>0.000308</td>\n",
       "      <td>-0.279375</td>\n",
       "      <td>0.048569</td>\n",
       "      <td>0.336019</td>\n",
       "      <td>1.000000</td>\n",
       "      <td>0.183952</td>\n",
       "    </tr>\n",
       "    <tr>\n",
       "      <th>sqft_lot15</th>\n",
       "      <td>0.083189</td>\n",
       "      <td>0.030952</td>\n",
       "      <td>0.088854</td>\n",
       "      <td>0.184801</td>\n",
       "      <td>0.717095</td>\n",
       "      <td>-0.010850</td>\n",
       "      <td>0.030605</td>\n",
       "      <td>0.073332</td>\n",
       "      <td>-0.002702</td>\n",
       "      <td>0.121435</td>\n",
       "      <td>0.195413</td>\n",
       "      <td>0.016936</td>\n",
       "      <td>0.070562</td>\n",
       "      <td>0.004413</td>\n",
       "      <td>-0.147519</td>\n",
       "      <td>-0.086035</td>\n",
       "      <td>0.255283</td>\n",
       "      <td>0.183952</td>\n",
       "      <td>1.000000</td>\n",
       "    </tr>\n",
       "  </tbody>\n",
       "</table>\n",
       "</div>"
      ],
      "text/plain": [
       "                  price  bedrooms  bathrooms  sqft_living  sqft_lot    floors  \\\n",
       "price          1.000000  0.308063   0.525053     0.701587  0.090338  0.257052   \n",
       "bedrooms       0.308063  1.000000   0.514368     0.577934  0.032735  0.177391   \n",
       "bathrooms      0.525053  0.514368   1.000000     0.755277  0.088921  0.502285   \n",
       "sqft_living    0.701587  0.577934   0.755277     1.000000  0.173768  0.353529   \n",
       "sqft_lot       0.090338  0.032735   0.088921     0.173768  1.000000 -0.005025   \n",
       "floors         0.257052  0.177391   0.502285     0.353529 -0.005025  1.000000   \n",
       "waterfront     0.259220 -0.003733   0.061115     0.101982  0.021465  0.020357   \n",
       "view           0.395734  0.078523   0.186451     0.282532  0.075298  0.028436   \n",
       "condition      0.035393  0.026402  -0.126682    -0.059783 -0.008375 -0.264138   \n",
       "grade          0.668307  0.356095   0.665312     0.762398  0.115122  0.458694   \n",
       "sqft_above     0.605695  0.479148   0.686173     0.876553  0.184325  0.523367   \n",
       "sqft_basement  0.316894  0.296325   0.275965     0.424665  0.015519 -0.239841   \n",
       "yr_built       0.054273  0.155462   0.507565     0.318217  0.052646  0.489410   \n",
       "yr_renovated   0.117982  0.017797   0.046955     0.050871  0.005091  0.003317   \n",
       "zipcode       -0.053620 -0.153990  -0.204435    -0.199839 -0.129846 -0.058966   \n",
       "lat            0.307868 -0.010415   0.024487     0.052383 -0.085143  0.049419   \n",
       "long           0.022417  0.132318   0.225025     0.241856  0.230137  0.125329   \n",
       "sqft_living15  0.585304  0.392874   0.569139     0.756208  0.145142  0.279176   \n",
       "sqft_lot15     0.083189  0.030952   0.088854     0.184801  0.717095 -0.010850   \n",
       "\n",
       "               waterfront      view  condition     grade  sqft_above  \\\n",
       "price            0.259220  0.395734   0.035393  0.668307    0.605695   \n",
       "bedrooms        -0.003733  0.078523   0.026402  0.356095    0.479148   \n",
       "bathrooms        0.061115  0.186451  -0.126682  0.665312    0.686173   \n",
       "sqft_living      0.101982  0.282532  -0.059783  0.762398    0.876553   \n",
       "sqft_lot         0.021465  0.075298  -0.008375  0.115122    0.184325   \n",
       "floors           0.020357  0.028436  -0.264138  0.458694    0.523367   \n",
       "waterfront       1.000000  0.382000   0.016224  0.081195    0.069931   \n",
       "view             0.382000  1.000000   0.045735  0.249727    0.166299   \n",
       "condition        0.016224  0.045735   1.000000 -0.147326   -0.158830   \n",
       "grade            0.081195  0.249727  -0.147326  1.000000    0.755977   \n",
       "sqft_above       0.069931  0.166299  -0.158830  0.755977    1.000000   \n",
       "sqft_basement    0.081428  0.271596   0.166911  0.163172   -0.052896   \n",
       "yr_built        -0.025000 -0.054564  -0.361398  0.448255    0.423999   \n",
       "yr_renovated     0.074327  0.090324  -0.055730  0.015235    0.020216   \n",
       "zipcode          0.029490  0.085277   0.002125 -0.185710   -0.261480   \n",
       "lat             -0.012282  0.006141  -0.015594  0.113787   -0.000889   \n",
       "long            -0.037845 -0.077894  -0.105475  0.200821    0.345051   \n",
       "sqft_living15    0.082352  0.279561  -0.093172  0.713462    0.731543   \n",
       "sqft_lot15       0.030605  0.073332  -0.002702  0.121435    0.195413   \n",
       "\n",
       "               sqft_basement  yr_built  yr_renovated   zipcode       lat  \\\n",
       "price               0.316894  0.054273      0.117982 -0.053620  0.307868   \n",
       "bedrooms            0.296325  0.155462      0.017797 -0.153990 -0.010415   \n",
       "bathrooms           0.275965  0.507565      0.046955 -0.204435  0.024487   \n",
       "sqft_living         0.424665  0.318217      0.050871 -0.199839  0.052383   \n",
       "sqft_lot            0.015519  0.052646      0.005091 -0.129846 -0.085143   \n",
       "floors             -0.239841  0.489410      0.003317 -0.058966  0.049419   \n",
       "waterfront          0.081428 -0.025000      0.074327  0.029490 -0.012282   \n",
       "view                0.271596 -0.054564      0.090324  0.085277  0.006141   \n",
       "condition           0.166911 -0.361398     -0.055730  0.002125 -0.015594   \n",
       "grade               0.163172  0.448255      0.015235 -0.185710  0.113787   \n",
       "sqft_above         -0.052896  0.423999      0.020216 -0.261480 -0.000889   \n",
       "sqft_basement       1.000000 -0.131021      0.067294  0.075404  0.107173   \n",
       "yr_built           -0.131021  1.000000     -0.202467 -0.346585 -0.147850   \n",
       "yr_renovated        0.067294 -0.202467      1.000000  0.062422  0.027792   \n",
       "zipcode             0.075404 -0.346585      0.062422  1.000000  0.266595   \n",
       "lat                 0.107173 -0.147850      0.027792  0.266595  1.000000   \n",
       "long               -0.142465  0.409666     -0.064546 -0.564279 -0.135439   \n",
       "sqft_living15       0.196138  0.326539      0.000308 -0.279375  0.048569   \n",
       "sqft_lot15          0.016936  0.070562      0.004413 -0.147519 -0.086035   \n",
       "\n",
       "                   long  sqft_living15  sqft_lot15  \n",
       "price          0.022417       0.585304    0.083189  \n",
       "bedrooms       0.132318       0.392874    0.030952  \n",
       "bathrooms      0.225025       0.569139    0.088854  \n",
       "sqft_living    0.241856       0.756208    0.184801  \n",
       "sqft_lot       0.230137       0.145142    0.717095  \n",
       "floors         0.125329       0.279176   -0.010850  \n",
       "waterfront    -0.037845       0.082352    0.030605  \n",
       "view          -0.077894       0.279561    0.073332  \n",
       "condition     -0.105475      -0.093172   -0.002702  \n",
       "grade          0.200821       0.713462    0.121435  \n",
       "sqft_above     0.345051       0.731543    0.195413  \n",
       "sqft_basement -0.142465       0.196138    0.016936  \n",
       "yr_built       0.409666       0.326539    0.070562  \n",
       "yr_renovated  -0.064546       0.000308    0.004413  \n",
       "zipcode       -0.564279      -0.279375   -0.147519  \n",
       "lat           -0.135439       0.048569   -0.086035  \n",
       "long           1.000000       0.336019    0.255283  \n",
       "sqft_living15  0.336019       1.000000    0.183952  \n",
       "sqft_lot15     0.255283       0.183952    1.000000  "
      ]
     },
     "execution_count": 37,
     "metadata": {},
     "output_type": "execute_result"
    }
   ],
   "source": [
    "df.corr()"
   ]
  },
  {
   "cell_type": "code",
   "execution_count": 38,
   "metadata": {},
   "outputs": [
    {
     "data": {
      "text/html": [
       "<div>\n",
       "<style scoped>\n",
       "    .dataframe tbody tr th:only-of-type {\n",
       "        vertical-align: middle;\n",
       "    }\n",
       "\n",
       "    .dataframe tbody tr th {\n",
       "        vertical-align: top;\n",
       "    }\n",
       "\n",
       "    .dataframe thead th {\n",
       "        text-align: right;\n",
       "    }\n",
       "</style>\n",
       "<table border=\"1\" class=\"dataframe\">\n",
       "  <thead>\n",
       "    <tr style=\"text-align: right;\">\n",
       "      <th></th>\n",
       "      <th>price</th>\n",
       "      <th>bedrooms</th>\n",
       "      <th>bathrooms</th>\n",
       "      <th>sqft_living</th>\n",
       "      <th>sqft_lot</th>\n",
       "      <th>floors</th>\n",
       "      <th>waterfront</th>\n",
       "      <th>view</th>\n",
       "      <th>condition</th>\n",
       "      <th>grade</th>\n",
       "      <th>sqft_above</th>\n",
       "      <th>sqft_basement</th>\n",
       "      <th>yr_built</th>\n",
       "      <th>yr_renovated</th>\n",
       "      <th>zipcode</th>\n",
       "      <th>lat</th>\n",
       "      <th>long</th>\n",
       "      <th>sqft_living15</th>\n",
       "      <th>sqft_lot15</th>\n",
       "    </tr>\n",
       "  </thead>\n",
       "  <tbody>\n",
       "    <tr>\n",
       "      <th>price</th>\n",
       "      <td>True</td>\n",
       "      <td>False</td>\n",
       "      <td>False</td>\n",
       "      <td>False</td>\n",
       "      <td>False</td>\n",
       "      <td>False</td>\n",
       "      <td>False</td>\n",
       "      <td>False</td>\n",
       "      <td>False</td>\n",
       "      <td>False</td>\n",
       "      <td>False</td>\n",
       "      <td>False</td>\n",
       "      <td>False</td>\n",
       "      <td>False</td>\n",
       "      <td>False</td>\n",
       "      <td>False</td>\n",
       "      <td>False</td>\n",
       "      <td>False</td>\n",
       "      <td>False</td>\n",
       "    </tr>\n",
       "    <tr>\n",
       "      <th>bedrooms</th>\n",
       "      <td>False</td>\n",
       "      <td>True</td>\n",
       "      <td>False</td>\n",
       "      <td>False</td>\n",
       "      <td>False</td>\n",
       "      <td>False</td>\n",
       "      <td>False</td>\n",
       "      <td>False</td>\n",
       "      <td>False</td>\n",
       "      <td>False</td>\n",
       "      <td>False</td>\n",
       "      <td>False</td>\n",
       "      <td>False</td>\n",
       "      <td>False</td>\n",
       "      <td>False</td>\n",
       "      <td>False</td>\n",
       "      <td>False</td>\n",
       "      <td>False</td>\n",
       "      <td>False</td>\n",
       "    </tr>\n",
       "    <tr>\n",
       "      <th>bathrooms</th>\n",
       "      <td>False</td>\n",
       "      <td>False</td>\n",
       "      <td>True</td>\n",
       "      <td>True</td>\n",
       "      <td>False</td>\n",
       "      <td>False</td>\n",
       "      <td>False</td>\n",
       "      <td>False</td>\n",
       "      <td>False</td>\n",
       "      <td>False</td>\n",
       "      <td>False</td>\n",
       "      <td>False</td>\n",
       "      <td>False</td>\n",
       "      <td>False</td>\n",
       "      <td>False</td>\n",
       "      <td>False</td>\n",
       "      <td>False</td>\n",
       "      <td>False</td>\n",
       "      <td>False</td>\n",
       "    </tr>\n",
       "    <tr>\n",
       "      <th>sqft_living</th>\n",
       "      <td>False</td>\n",
       "      <td>False</td>\n",
       "      <td>True</td>\n",
       "      <td>True</td>\n",
       "      <td>False</td>\n",
       "      <td>False</td>\n",
       "      <td>False</td>\n",
       "      <td>False</td>\n",
       "      <td>False</td>\n",
       "      <td>True</td>\n",
       "      <td>True</td>\n",
       "      <td>False</td>\n",
       "      <td>False</td>\n",
       "      <td>False</td>\n",
       "      <td>False</td>\n",
       "      <td>False</td>\n",
       "      <td>False</td>\n",
       "      <td>True</td>\n",
       "      <td>False</td>\n",
       "    </tr>\n",
       "    <tr>\n",
       "      <th>sqft_lot</th>\n",
       "      <td>False</td>\n",
       "      <td>False</td>\n",
       "      <td>False</td>\n",
       "      <td>False</td>\n",
       "      <td>True</td>\n",
       "      <td>False</td>\n",
       "      <td>False</td>\n",
       "      <td>False</td>\n",
       "      <td>False</td>\n",
       "      <td>False</td>\n",
       "      <td>False</td>\n",
       "      <td>False</td>\n",
       "      <td>False</td>\n",
       "      <td>False</td>\n",
       "      <td>False</td>\n",
       "      <td>False</td>\n",
       "      <td>False</td>\n",
       "      <td>False</td>\n",
       "      <td>False</td>\n",
       "    </tr>\n",
       "    <tr>\n",
       "      <th>floors</th>\n",
       "      <td>False</td>\n",
       "      <td>False</td>\n",
       "      <td>False</td>\n",
       "      <td>False</td>\n",
       "      <td>False</td>\n",
       "      <td>True</td>\n",
       "      <td>False</td>\n",
       "      <td>False</td>\n",
       "      <td>False</td>\n",
       "      <td>False</td>\n",
       "      <td>False</td>\n",
       "      <td>False</td>\n",
       "      <td>False</td>\n",
       "      <td>False</td>\n",
       "      <td>False</td>\n",
       "      <td>False</td>\n",
       "      <td>False</td>\n",
       "      <td>False</td>\n",
       "      <td>False</td>\n",
       "    </tr>\n",
       "    <tr>\n",
       "      <th>waterfront</th>\n",
       "      <td>False</td>\n",
       "      <td>False</td>\n",
       "      <td>False</td>\n",
       "      <td>False</td>\n",
       "      <td>False</td>\n",
       "      <td>False</td>\n",
       "      <td>True</td>\n",
       "      <td>False</td>\n",
       "      <td>False</td>\n",
       "      <td>False</td>\n",
       "      <td>False</td>\n",
       "      <td>False</td>\n",
       "      <td>False</td>\n",
       "      <td>False</td>\n",
       "      <td>False</td>\n",
       "      <td>False</td>\n",
       "      <td>False</td>\n",
       "      <td>False</td>\n",
       "      <td>False</td>\n",
       "    </tr>\n",
       "    <tr>\n",
       "      <th>view</th>\n",
       "      <td>False</td>\n",
       "      <td>False</td>\n",
       "      <td>False</td>\n",
       "      <td>False</td>\n",
       "      <td>False</td>\n",
       "      <td>False</td>\n",
       "      <td>False</td>\n",
       "      <td>True</td>\n",
       "      <td>False</td>\n",
       "      <td>False</td>\n",
       "      <td>False</td>\n",
       "      <td>False</td>\n",
       "      <td>False</td>\n",
       "      <td>False</td>\n",
       "      <td>False</td>\n",
       "      <td>False</td>\n",
       "      <td>False</td>\n",
       "      <td>False</td>\n",
       "      <td>False</td>\n",
       "    </tr>\n",
       "    <tr>\n",
       "      <th>condition</th>\n",
       "      <td>False</td>\n",
       "      <td>False</td>\n",
       "      <td>False</td>\n",
       "      <td>False</td>\n",
       "      <td>False</td>\n",
       "      <td>False</td>\n",
       "      <td>False</td>\n",
       "      <td>False</td>\n",
       "      <td>True</td>\n",
       "      <td>False</td>\n",
       "      <td>False</td>\n",
       "      <td>False</td>\n",
       "      <td>False</td>\n",
       "      <td>False</td>\n",
       "      <td>False</td>\n",
       "      <td>False</td>\n",
       "      <td>False</td>\n",
       "      <td>False</td>\n",
       "      <td>False</td>\n",
       "    </tr>\n",
       "    <tr>\n",
       "      <th>grade</th>\n",
       "      <td>False</td>\n",
       "      <td>False</td>\n",
       "      <td>False</td>\n",
       "      <td>True</td>\n",
       "      <td>False</td>\n",
       "      <td>False</td>\n",
       "      <td>False</td>\n",
       "      <td>False</td>\n",
       "      <td>False</td>\n",
       "      <td>True</td>\n",
       "      <td>True</td>\n",
       "      <td>False</td>\n",
       "      <td>False</td>\n",
       "      <td>False</td>\n",
       "      <td>False</td>\n",
       "      <td>False</td>\n",
       "      <td>False</td>\n",
       "      <td>False</td>\n",
       "      <td>False</td>\n",
       "    </tr>\n",
       "    <tr>\n",
       "      <th>sqft_above</th>\n",
       "      <td>False</td>\n",
       "      <td>False</td>\n",
       "      <td>False</td>\n",
       "      <td>True</td>\n",
       "      <td>False</td>\n",
       "      <td>False</td>\n",
       "      <td>False</td>\n",
       "      <td>False</td>\n",
       "      <td>False</td>\n",
       "      <td>True</td>\n",
       "      <td>True</td>\n",
       "      <td>False</td>\n",
       "      <td>False</td>\n",
       "      <td>False</td>\n",
       "      <td>False</td>\n",
       "      <td>False</td>\n",
       "      <td>False</td>\n",
       "      <td>False</td>\n",
       "      <td>False</td>\n",
       "    </tr>\n",
       "    <tr>\n",
       "      <th>sqft_basement</th>\n",
       "      <td>False</td>\n",
       "      <td>False</td>\n",
       "      <td>False</td>\n",
       "      <td>False</td>\n",
       "      <td>False</td>\n",
       "      <td>False</td>\n",
       "      <td>False</td>\n",
       "      <td>False</td>\n",
       "      <td>False</td>\n",
       "      <td>False</td>\n",
       "      <td>False</td>\n",
       "      <td>True</td>\n",
       "      <td>False</td>\n",
       "      <td>False</td>\n",
       "      <td>False</td>\n",
       "      <td>False</td>\n",
       "      <td>False</td>\n",
       "      <td>False</td>\n",
       "      <td>False</td>\n",
       "    </tr>\n",
       "    <tr>\n",
       "      <th>yr_built</th>\n",
       "      <td>False</td>\n",
       "      <td>False</td>\n",
       "      <td>False</td>\n",
       "      <td>False</td>\n",
       "      <td>False</td>\n",
       "      <td>False</td>\n",
       "      <td>False</td>\n",
       "      <td>False</td>\n",
       "      <td>False</td>\n",
       "      <td>False</td>\n",
       "      <td>False</td>\n",
       "      <td>False</td>\n",
       "      <td>True</td>\n",
       "      <td>False</td>\n",
       "      <td>False</td>\n",
       "      <td>False</td>\n",
       "      <td>False</td>\n",
       "      <td>False</td>\n",
       "      <td>False</td>\n",
       "    </tr>\n",
       "    <tr>\n",
       "      <th>yr_renovated</th>\n",
       "      <td>False</td>\n",
       "      <td>False</td>\n",
       "      <td>False</td>\n",
       "      <td>False</td>\n",
       "      <td>False</td>\n",
       "      <td>False</td>\n",
       "      <td>False</td>\n",
       "      <td>False</td>\n",
       "      <td>False</td>\n",
       "      <td>False</td>\n",
       "      <td>False</td>\n",
       "      <td>False</td>\n",
       "      <td>False</td>\n",
       "      <td>True</td>\n",
       "      <td>False</td>\n",
       "      <td>False</td>\n",
       "      <td>False</td>\n",
       "      <td>False</td>\n",
       "      <td>False</td>\n",
       "    </tr>\n",
       "    <tr>\n",
       "      <th>zipcode</th>\n",
       "      <td>False</td>\n",
       "      <td>False</td>\n",
       "      <td>False</td>\n",
       "      <td>False</td>\n",
       "      <td>False</td>\n",
       "      <td>False</td>\n",
       "      <td>False</td>\n",
       "      <td>False</td>\n",
       "      <td>False</td>\n",
       "      <td>False</td>\n",
       "      <td>False</td>\n",
       "      <td>False</td>\n",
       "      <td>False</td>\n",
       "      <td>False</td>\n",
       "      <td>True</td>\n",
       "      <td>False</td>\n",
       "      <td>False</td>\n",
       "      <td>False</td>\n",
       "      <td>False</td>\n",
       "    </tr>\n",
       "    <tr>\n",
       "      <th>lat</th>\n",
       "      <td>False</td>\n",
       "      <td>False</td>\n",
       "      <td>False</td>\n",
       "      <td>False</td>\n",
       "      <td>False</td>\n",
       "      <td>False</td>\n",
       "      <td>False</td>\n",
       "      <td>False</td>\n",
       "      <td>False</td>\n",
       "      <td>False</td>\n",
       "      <td>False</td>\n",
       "      <td>False</td>\n",
       "      <td>False</td>\n",
       "      <td>False</td>\n",
       "      <td>False</td>\n",
       "      <td>True</td>\n",
       "      <td>False</td>\n",
       "      <td>False</td>\n",
       "      <td>False</td>\n",
       "    </tr>\n",
       "    <tr>\n",
       "      <th>long</th>\n",
       "      <td>False</td>\n",
       "      <td>False</td>\n",
       "      <td>False</td>\n",
       "      <td>False</td>\n",
       "      <td>False</td>\n",
       "      <td>False</td>\n",
       "      <td>False</td>\n",
       "      <td>False</td>\n",
       "      <td>False</td>\n",
       "      <td>False</td>\n",
       "      <td>False</td>\n",
       "      <td>False</td>\n",
       "      <td>False</td>\n",
       "      <td>False</td>\n",
       "      <td>False</td>\n",
       "      <td>False</td>\n",
       "      <td>True</td>\n",
       "      <td>False</td>\n",
       "      <td>False</td>\n",
       "    </tr>\n",
       "    <tr>\n",
       "      <th>sqft_living15</th>\n",
       "      <td>False</td>\n",
       "      <td>False</td>\n",
       "      <td>False</td>\n",
       "      <td>True</td>\n",
       "      <td>False</td>\n",
       "      <td>False</td>\n",
       "      <td>False</td>\n",
       "      <td>False</td>\n",
       "      <td>False</td>\n",
       "      <td>False</td>\n",
       "      <td>False</td>\n",
       "      <td>False</td>\n",
       "      <td>False</td>\n",
       "      <td>False</td>\n",
       "      <td>False</td>\n",
       "      <td>False</td>\n",
       "      <td>False</td>\n",
       "      <td>True</td>\n",
       "      <td>False</td>\n",
       "    </tr>\n",
       "    <tr>\n",
       "      <th>sqft_lot15</th>\n",
       "      <td>False</td>\n",
       "      <td>False</td>\n",
       "      <td>False</td>\n",
       "      <td>False</td>\n",
       "      <td>False</td>\n",
       "      <td>False</td>\n",
       "      <td>False</td>\n",
       "      <td>False</td>\n",
       "      <td>False</td>\n",
       "      <td>False</td>\n",
       "      <td>False</td>\n",
       "      <td>False</td>\n",
       "      <td>False</td>\n",
       "      <td>False</td>\n",
       "      <td>False</td>\n",
       "      <td>False</td>\n",
       "      <td>False</td>\n",
       "      <td>False</td>\n",
       "      <td>True</td>\n",
       "    </tr>\n",
       "  </tbody>\n",
       "</table>\n",
       "</div>"
      ],
      "text/plain": [
       "               price  bedrooms  bathrooms  sqft_living  sqft_lot  floors  \\\n",
       "price           True     False      False        False     False   False   \n",
       "bedrooms       False      True      False        False     False   False   \n",
       "bathrooms      False     False       True         True     False   False   \n",
       "sqft_living    False     False       True         True     False   False   \n",
       "sqft_lot       False     False      False        False      True   False   \n",
       "floors         False     False      False        False     False    True   \n",
       "waterfront     False     False      False        False     False   False   \n",
       "view           False     False      False        False     False   False   \n",
       "condition      False     False      False        False     False   False   \n",
       "grade          False     False      False         True     False   False   \n",
       "sqft_above     False     False      False         True     False   False   \n",
       "sqft_basement  False     False      False        False     False   False   \n",
       "yr_built       False     False      False        False     False   False   \n",
       "yr_renovated   False     False      False        False     False   False   \n",
       "zipcode        False     False      False        False     False   False   \n",
       "lat            False     False      False        False     False   False   \n",
       "long           False     False      False        False     False   False   \n",
       "sqft_living15  False     False      False         True     False   False   \n",
       "sqft_lot15     False     False      False        False     False   False   \n",
       "\n",
       "               waterfront   view  condition  grade  sqft_above  sqft_basement  \\\n",
       "price               False  False      False  False       False          False   \n",
       "bedrooms            False  False      False  False       False          False   \n",
       "bathrooms           False  False      False  False       False          False   \n",
       "sqft_living         False  False      False   True        True          False   \n",
       "sqft_lot            False  False      False  False       False          False   \n",
       "floors              False  False      False  False       False          False   \n",
       "waterfront           True  False      False  False       False          False   \n",
       "view                False   True      False  False       False          False   \n",
       "condition           False  False       True  False       False          False   \n",
       "grade               False  False      False   True        True          False   \n",
       "sqft_above          False  False      False   True        True          False   \n",
       "sqft_basement       False  False      False  False       False           True   \n",
       "yr_built            False  False      False  False       False          False   \n",
       "yr_renovated        False  False      False  False       False          False   \n",
       "zipcode             False  False      False  False       False          False   \n",
       "lat                 False  False      False  False       False          False   \n",
       "long                False  False      False  False       False          False   \n",
       "sqft_living15       False  False      False  False       False          False   \n",
       "sqft_lot15          False  False      False  False       False          False   \n",
       "\n",
       "               yr_built  yr_renovated  zipcode    lat   long  sqft_living15  \\\n",
       "price             False         False    False  False  False          False   \n",
       "bedrooms          False         False    False  False  False          False   \n",
       "bathrooms         False         False    False  False  False          False   \n",
       "sqft_living       False         False    False  False  False           True   \n",
       "sqft_lot          False         False    False  False  False          False   \n",
       "floors            False         False    False  False  False          False   \n",
       "waterfront        False         False    False  False  False          False   \n",
       "view              False         False    False  False  False          False   \n",
       "condition         False         False    False  False  False          False   \n",
       "grade             False         False    False  False  False          False   \n",
       "sqft_above        False         False    False  False  False          False   \n",
       "sqft_basement     False         False    False  False  False          False   \n",
       "yr_built           True         False    False  False  False          False   \n",
       "yr_renovated      False          True    False  False  False          False   \n",
       "zipcode           False         False     True  False  False          False   \n",
       "lat               False         False    False   True  False          False   \n",
       "long              False         False    False  False   True          False   \n",
       "sqft_living15     False         False    False  False  False           True   \n",
       "sqft_lot15        False         False    False  False  False          False   \n",
       "\n",
       "               sqft_lot15  \n",
       "price               False  \n",
       "bedrooms            False  \n",
       "bathrooms           False  \n",
       "sqft_living         False  \n",
       "sqft_lot            False  \n",
       "floors              False  \n",
       "waterfront          False  \n",
       "view                False  \n",
       "condition           False  \n",
       "grade               False  \n",
       "sqft_above          False  \n",
       "sqft_basement       False  \n",
       "yr_built            False  \n",
       "yr_renovated        False  \n",
       "zipcode             False  \n",
       "lat                 False  \n",
       "long                False  \n",
       "sqft_living15       False  \n",
       "sqft_lot15           True  "
      ]
     },
     "execution_count": 38,
     "metadata": {},
     "output_type": "execute_result"
    }
   ],
   "source": [
    "abs(df.corr()) > 0.75"
   ]
  },
  {
   "cell_type": "markdown",
   "metadata": {},
   "source": [
    "the following present multicolinearity:<br>\n",
    "\n",
    "bathrooms + sqft_living<br>\n",
    "sqft_living + grade<br>\n",
    "sqft_living + sqft_above<br>\n",
    "sqft_living + sqft_living15<br>\n",
    "grade + sqft_above<br>\n",
    "\n",
    "\n",
    "sqft_living is is correlated with more than several features; will remove said feature form OLS model<br>\n",
    "also seeing coliniearity between sqft_lot and sqft_lot15; will remove sqft_lot15\n"
   ]
  },
  {
   "cell_type": "code",
   "execution_count": 39,
   "metadata": {
    "scrolled": true
   },
   "outputs": [],
   "source": [
    "df.drop(columns = 'sqft_living', inplace = True)"
   ]
  },
  {
   "cell_type": "code",
   "execution_count": 40,
   "metadata": {},
   "outputs": [
    {
     "data": {
      "text/html": [
       "<div>\n",
       "<style scoped>\n",
       "    .dataframe tbody tr th:only-of-type {\n",
       "        vertical-align: middle;\n",
       "    }\n",
       "\n",
       "    .dataframe tbody tr th {\n",
       "        vertical-align: top;\n",
       "    }\n",
       "\n",
       "    .dataframe thead th {\n",
       "        text-align: right;\n",
       "    }\n",
       "</style>\n",
       "<table border=\"1\" class=\"dataframe\">\n",
       "  <thead>\n",
       "    <tr style=\"text-align: right;\">\n",
       "      <th></th>\n",
       "      <th>date_sold</th>\n",
       "      <th>price</th>\n",
       "      <th>bedrooms</th>\n",
       "      <th>bathrooms</th>\n",
       "      <th>sqft_lot</th>\n",
       "      <th>floors</th>\n",
       "      <th>waterfront</th>\n",
       "      <th>view</th>\n",
       "      <th>condition</th>\n",
       "      <th>grade</th>\n",
       "      <th>sqft_above</th>\n",
       "      <th>sqft_basement</th>\n",
       "      <th>yr_built</th>\n",
       "      <th>yr_renovated</th>\n",
       "      <th>zipcode</th>\n",
       "      <th>lat</th>\n",
       "      <th>long</th>\n",
       "      <th>sqft_living15</th>\n",
       "      <th>sqft_lot15</th>\n",
       "    </tr>\n",
       "  </thead>\n",
       "  <tbody>\n",
       "    <tr>\n",
       "      <th>0</th>\n",
       "      <td>10/13/2014</td>\n",
       "      <td>221900</td>\n",
       "      <td>3</td>\n",
       "      <td>1.0</td>\n",
       "      <td>5650</td>\n",
       "      <td>1.0</td>\n",
       "      <td>0</td>\n",
       "      <td>0</td>\n",
       "      <td>3</td>\n",
       "      <td>7</td>\n",
       "      <td>1180</td>\n",
       "      <td>0</td>\n",
       "      <td>1955</td>\n",
       "      <td>0</td>\n",
       "      <td>98178</td>\n",
       "      <td>47.5112</td>\n",
       "      <td>-122.257</td>\n",
       "      <td>1340</td>\n",
       "      <td>5650</td>\n",
       "    </tr>\n",
       "  </tbody>\n",
       "</table>\n",
       "</div>"
      ],
      "text/plain": [
       "    date_sold   price  bedrooms  bathrooms  sqft_lot  floors  waterfront  \\\n",
       "0  10/13/2014  221900         3        1.0      5650     1.0           0   \n",
       "\n",
       "   view  condition  grade  sqft_above  sqft_basement  yr_built  yr_renovated  \\\n",
       "0     0          3      7        1180              0      1955             0   \n",
       "\n",
       "   zipcode      lat     long  sqft_living15  sqft_lot15  \n",
       "0    98178  47.5112 -122.257           1340        5650  "
      ]
     },
     "execution_count": 40,
     "metadata": {},
     "output_type": "execute_result"
    }
   ],
   "source": [
    "df.head(1)"
   ]
  },
  {
   "cell_type": "code",
   "execution_count": 41,
   "metadata": {},
   "outputs": [],
   "source": [
    "df.drop(columns = 'sqft_lot15', inplace = True)"
   ]
  },
  {
   "cell_type": "code",
   "execution_count": 42,
   "metadata": {},
   "outputs": [
    {
     "data": {
      "text/html": [
       "<div>\n",
       "<style scoped>\n",
       "    .dataframe tbody tr th:only-of-type {\n",
       "        vertical-align: middle;\n",
       "    }\n",
       "\n",
       "    .dataframe tbody tr th {\n",
       "        vertical-align: top;\n",
       "    }\n",
       "\n",
       "    .dataframe thead th {\n",
       "        text-align: right;\n",
       "    }\n",
       "</style>\n",
       "<table border=\"1\" class=\"dataframe\">\n",
       "  <thead>\n",
       "    <tr style=\"text-align: right;\">\n",
       "      <th></th>\n",
       "      <th>date_sold</th>\n",
       "      <th>price</th>\n",
       "      <th>bedrooms</th>\n",
       "      <th>bathrooms</th>\n",
       "      <th>sqft_lot</th>\n",
       "      <th>floors</th>\n",
       "      <th>waterfront</th>\n",
       "      <th>view</th>\n",
       "      <th>condition</th>\n",
       "      <th>grade</th>\n",
       "      <th>sqft_above</th>\n",
       "      <th>sqft_basement</th>\n",
       "      <th>yr_built</th>\n",
       "      <th>yr_renovated</th>\n",
       "      <th>zipcode</th>\n",
       "      <th>lat</th>\n",
       "      <th>long</th>\n",
       "      <th>sqft_living15</th>\n",
       "    </tr>\n",
       "  </thead>\n",
       "  <tbody>\n",
       "    <tr>\n",
       "      <th>0</th>\n",
       "      <td>10/13/2014</td>\n",
       "      <td>221900</td>\n",
       "      <td>3</td>\n",
       "      <td>1.0</td>\n",
       "      <td>5650</td>\n",
       "      <td>1.0</td>\n",
       "      <td>0</td>\n",
       "      <td>0</td>\n",
       "      <td>3</td>\n",
       "      <td>7</td>\n",
       "      <td>1180</td>\n",
       "      <td>0</td>\n",
       "      <td>1955</td>\n",
       "      <td>0</td>\n",
       "      <td>98178</td>\n",
       "      <td>47.5112</td>\n",
       "      <td>-122.257</td>\n",
       "      <td>1340</td>\n",
       "    </tr>\n",
       "  </tbody>\n",
       "</table>\n",
       "</div>"
      ],
      "text/plain": [
       "    date_sold   price  bedrooms  bathrooms  sqft_lot  floors  waterfront  \\\n",
       "0  10/13/2014  221900         3        1.0      5650     1.0           0   \n",
       "\n",
       "   view  condition  grade  sqft_above  sqft_basement  yr_built  yr_renovated  \\\n",
       "0     0          3      7        1180              0      1955             0   \n",
       "\n",
       "   zipcode      lat     long  sqft_living15  \n",
       "0    98178  47.5112 -122.257           1340  "
      ]
     },
     "execution_count": 42,
     "metadata": {},
     "output_type": "execute_result"
    }
   ],
   "source": [
    "df.head(1)"
   ]
  },
  {
   "cell_type": "markdown",
   "metadata": {},
   "source": [
    "<font color = 'red'><font size = 5> **END CHECK FOR MULTICOLINEARITY**"
   ]
  },
  {
   "cell_type": "markdown",
   "metadata": {},
   "source": [
    "<font color = 'green'><font size = 5> **Begin EDA**"
   ]
  },
  {
   "cell_type": "code",
   "execution_count": 43,
   "metadata": {},
   "outputs": [
    {
     "data": {
      "text/html": [
       "<div>\n",
       "<style scoped>\n",
       "    .dataframe tbody tr th:only-of-type {\n",
       "        vertical-align: middle;\n",
       "    }\n",
       "\n",
       "    .dataframe tbody tr th {\n",
       "        vertical-align: top;\n",
       "    }\n",
       "\n",
       "    .dataframe thead th {\n",
       "        text-align: right;\n",
       "    }\n",
       "</style>\n",
       "<table border=\"1\" class=\"dataframe\">\n",
       "  <thead>\n",
       "    <tr style=\"text-align: right;\">\n",
       "      <th></th>\n",
       "      <th>date_sold</th>\n",
       "      <th>price</th>\n",
       "      <th>bedrooms</th>\n",
       "      <th>bathrooms</th>\n",
       "      <th>sqft_lot</th>\n",
       "      <th>floors</th>\n",
       "      <th>waterfront</th>\n",
       "      <th>view</th>\n",
       "      <th>condition</th>\n",
       "      <th>grade</th>\n",
       "      <th>sqft_above</th>\n",
       "      <th>sqft_basement</th>\n",
       "      <th>yr_built</th>\n",
       "      <th>yr_renovated</th>\n",
       "      <th>zipcode</th>\n",
       "      <th>lat</th>\n",
       "      <th>long</th>\n",
       "      <th>sqft_living15</th>\n",
       "    </tr>\n",
       "  </thead>\n",
       "  <tbody>\n",
       "    <tr>\n",
       "      <th>0</th>\n",
       "      <td>10/13/2014</td>\n",
       "      <td>221900</td>\n",
       "      <td>3</td>\n",
       "      <td>1.00</td>\n",
       "      <td>5650</td>\n",
       "      <td>1.0</td>\n",
       "      <td>0</td>\n",
       "      <td>0</td>\n",
       "      <td>3</td>\n",
       "      <td>7</td>\n",
       "      <td>1180</td>\n",
       "      <td>0</td>\n",
       "      <td>1955</td>\n",
       "      <td>0</td>\n",
       "      <td>98178</td>\n",
       "      <td>47.5112</td>\n",
       "      <td>-122.257</td>\n",
       "      <td>1340</td>\n",
       "    </tr>\n",
       "    <tr>\n",
       "      <th>1</th>\n",
       "      <td>12/9/2014</td>\n",
       "      <td>538000</td>\n",
       "      <td>3</td>\n",
       "      <td>2.25</td>\n",
       "      <td>7242</td>\n",
       "      <td>2.0</td>\n",
       "      <td>0</td>\n",
       "      <td>0</td>\n",
       "      <td>3</td>\n",
       "      <td>7</td>\n",
       "      <td>2170</td>\n",
       "      <td>400</td>\n",
       "      <td>1951</td>\n",
       "      <td>1991</td>\n",
       "      <td>98125</td>\n",
       "      <td>47.7210</td>\n",
       "      <td>-122.319</td>\n",
       "      <td>1690</td>\n",
       "    </tr>\n",
       "    <tr>\n",
       "      <th>2</th>\n",
       "      <td>2/25/2015</td>\n",
       "      <td>180000</td>\n",
       "      <td>2</td>\n",
       "      <td>1.00</td>\n",
       "      <td>10000</td>\n",
       "      <td>1.0</td>\n",
       "      <td>0</td>\n",
       "      <td>0</td>\n",
       "      <td>3</td>\n",
       "      <td>6</td>\n",
       "      <td>770</td>\n",
       "      <td>0</td>\n",
       "      <td>1933</td>\n",
       "      <td>0</td>\n",
       "      <td>98028</td>\n",
       "      <td>47.7379</td>\n",
       "      <td>-122.233</td>\n",
       "      <td>2720</td>\n",
       "    </tr>\n",
       "    <tr>\n",
       "      <th>3</th>\n",
       "      <td>12/9/2014</td>\n",
       "      <td>604000</td>\n",
       "      <td>4</td>\n",
       "      <td>3.00</td>\n",
       "      <td>5000</td>\n",
       "      <td>1.0</td>\n",
       "      <td>0</td>\n",
       "      <td>0</td>\n",
       "      <td>5</td>\n",
       "      <td>7</td>\n",
       "      <td>1050</td>\n",
       "      <td>910</td>\n",
       "      <td>1965</td>\n",
       "      <td>0</td>\n",
       "      <td>98136</td>\n",
       "      <td>47.5208</td>\n",
       "      <td>-122.393</td>\n",
       "      <td>1360</td>\n",
       "    </tr>\n",
       "    <tr>\n",
       "      <th>4</th>\n",
       "      <td>2/18/2015</td>\n",
       "      <td>510000</td>\n",
       "      <td>3</td>\n",
       "      <td>2.00</td>\n",
       "      <td>8080</td>\n",
       "      <td>1.0</td>\n",
       "      <td>0</td>\n",
       "      <td>0</td>\n",
       "      <td>3</td>\n",
       "      <td>8</td>\n",
       "      <td>1680</td>\n",
       "      <td>0</td>\n",
       "      <td>1987</td>\n",
       "      <td>0</td>\n",
       "      <td>98074</td>\n",
       "      <td>47.6168</td>\n",
       "      <td>-122.045</td>\n",
       "      <td>1800</td>\n",
       "    </tr>\n",
       "  </tbody>\n",
       "</table>\n",
       "</div>"
      ],
      "text/plain": [
       "    date_sold   price  bedrooms  bathrooms  sqft_lot  floors  waterfront  \\\n",
       "0  10/13/2014  221900         3       1.00      5650     1.0           0   \n",
       "1   12/9/2014  538000         3       2.25      7242     2.0           0   \n",
       "2   2/25/2015  180000         2       1.00     10000     1.0           0   \n",
       "3   12/9/2014  604000         4       3.00      5000     1.0           0   \n",
       "4   2/18/2015  510000         3       2.00      8080     1.0           0   \n",
       "\n",
       "   view  condition  grade  sqft_above  sqft_basement  yr_built  yr_renovated  \\\n",
       "0     0          3      7        1180              0      1955             0   \n",
       "1     0          3      7        2170            400      1951          1991   \n",
       "2     0          3      6         770              0      1933             0   \n",
       "3     0          5      7        1050            910      1965             0   \n",
       "4     0          3      8        1680              0      1987             0   \n",
       "\n",
       "   zipcode      lat     long  sqft_living15  \n",
       "0    98178  47.5112 -122.257           1340  \n",
       "1    98125  47.7210 -122.319           1690  \n",
       "2    98028  47.7379 -122.233           2720  \n",
       "3    98136  47.5208 -122.393           1360  \n",
       "4    98074  47.6168 -122.045           1800  "
      ]
     },
     "execution_count": 43,
     "metadata": {},
     "output_type": "execute_result"
    }
   ],
   "source": [
    "df.head(5)"
   ]
  },
  {
   "cell_type": "code",
   "execution_count": 44,
   "metadata": {},
   "outputs": [
    {
     "data": {
      "text/html": [
       "<div>\n",
       "<style scoped>\n",
       "    .dataframe tbody tr th:only-of-type {\n",
       "        vertical-align: middle;\n",
       "    }\n",
       "\n",
       "    .dataframe tbody tr th {\n",
       "        vertical-align: top;\n",
       "    }\n",
       "\n",
       "    .dataframe thead th {\n",
       "        text-align: right;\n",
       "    }\n",
       "</style>\n",
       "<table border=\"1\" class=\"dataframe\">\n",
       "  <thead>\n",
       "    <tr style=\"text-align: right;\">\n",
       "      <th></th>\n",
       "      <th>price</th>\n",
       "      <th>bedrooms</th>\n",
       "      <th>bathrooms</th>\n",
       "      <th>sqft_lot</th>\n",
       "      <th>floors</th>\n",
       "      <th>waterfront</th>\n",
       "      <th>view</th>\n",
       "      <th>condition</th>\n",
       "      <th>grade</th>\n",
       "      <th>sqft_above</th>\n",
       "      <th>sqft_basement</th>\n",
       "      <th>yr_built</th>\n",
       "      <th>yr_renovated</th>\n",
       "      <th>zipcode</th>\n",
       "      <th>lat</th>\n",
       "      <th>long</th>\n",
       "      <th>sqft_living15</th>\n",
       "    </tr>\n",
       "  </thead>\n",
       "  <tbody>\n",
       "    <tr>\n",
       "      <th>count</th>\n",
       "      <td>2.153400e+04</td>\n",
       "      <td>21534.000000</td>\n",
       "      <td>21534.000000</td>\n",
       "      <td>2.153400e+04</td>\n",
       "      <td>21534.000000</td>\n",
       "      <td>21534.000000</td>\n",
       "      <td>21534.000000</td>\n",
       "      <td>21534.000000</td>\n",
       "      <td>21534.000000</td>\n",
       "      <td>21534.000000</td>\n",
       "      <td>21534.000000</td>\n",
       "      <td>21534.000000</td>\n",
       "      <td>21534.000000</td>\n",
       "      <td>21534.000000</td>\n",
       "      <td>21534.000000</td>\n",
       "      <td>21534.000000</td>\n",
       "      <td>21534.000000</td>\n",
       "    </tr>\n",
       "    <tr>\n",
       "      <th>mean</th>\n",
       "      <td>5.400577e+05</td>\n",
       "      <td>3.373038</td>\n",
       "      <td>2.115712</td>\n",
       "      <td>1.509060e+04</td>\n",
       "      <td>1.494126</td>\n",
       "      <td>0.006734</td>\n",
       "      <td>0.233863</td>\n",
       "      <td>3.409724</td>\n",
       "      <td>7.657425</td>\n",
       "      <td>1788.557537</td>\n",
       "      <td>299.937355</td>\n",
       "      <td>1971.002275</td>\n",
       "      <td>68.866722</td>\n",
       "      <td>98077.939352</td>\n",
       "      <td>47.560180</td>\n",
       "      <td>-122.213948</td>\n",
       "      <td>1986.299944</td>\n",
       "    </tr>\n",
       "    <tr>\n",
       "      <th>std</th>\n",
       "      <td>3.660596e+05</td>\n",
       "      <td>0.926410</td>\n",
       "      <td>0.768602</td>\n",
       "      <td>4.138021e+04</td>\n",
       "      <td>0.539806</td>\n",
       "      <td>0.081783</td>\n",
       "      <td>0.765686</td>\n",
       "      <td>0.650654</td>\n",
       "      <td>1.172643</td>\n",
       "      <td>827.745641</td>\n",
       "      <td>441.249993</td>\n",
       "      <td>29.376044</td>\n",
       "      <td>364.314552</td>\n",
       "      <td>53.506639</td>\n",
       "      <td>0.138528</td>\n",
       "      <td>0.140735</td>\n",
       "      <td>685.121001</td>\n",
       "    </tr>\n",
       "    <tr>\n",
       "      <th>min</th>\n",
       "      <td>7.800000e+04</td>\n",
       "      <td>1.000000</td>\n",
       "      <td>0.500000</td>\n",
       "      <td>5.200000e+02</td>\n",
       "      <td>1.000000</td>\n",
       "      <td>0.000000</td>\n",
       "      <td>0.000000</td>\n",
       "      <td>1.000000</td>\n",
       "      <td>3.000000</td>\n",
       "      <td>370.000000</td>\n",
       "      <td>0.000000</td>\n",
       "      <td>1900.000000</td>\n",
       "      <td>0.000000</td>\n",
       "      <td>98001.000000</td>\n",
       "      <td>47.155900</td>\n",
       "      <td>-122.519000</td>\n",
       "      <td>399.000000</td>\n",
       "    </tr>\n",
       "    <tr>\n",
       "      <th>25%</th>\n",
       "      <td>3.220000e+05</td>\n",
       "      <td>3.000000</td>\n",
       "      <td>1.750000</td>\n",
       "      <td>5.040000e+03</td>\n",
       "      <td>1.000000</td>\n",
       "      <td>0.000000</td>\n",
       "      <td>0.000000</td>\n",
       "      <td>3.000000</td>\n",
       "      <td>7.000000</td>\n",
       "      <td>1190.000000</td>\n",
       "      <td>0.000000</td>\n",
       "      <td>1951.000000</td>\n",
       "      <td>0.000000</td>\n",
       "      <td>98033.000000</td>\n",
       "      <td>47.471200</td>\n",
       "      <td>-122.328000</td>\n",
       "      <td>1490.000000</td>\n",
       "    </tr>\n",
       "    <tr>\n",
       "      <th>50%</th>\n",
       "      <td>4.500000e+05</td>\n",
       "      <td>3.000000</td>\n",
       "      <td>2.250000</td>\n",
       "      <td>7.617000e+03</td>\n",
       "      <td>1.500000</td>\n",
       "      <td>0.000000</td>\n",
       "      <td>0.000000</td>\n",
       "      <td>3.000000</td>\n",
       "      <td>7.000000</td>\n",
       "      <td>1560.000000</td>\n",
       "      <td>0.000000</td>\n",
       "      <td>1975.000000</td>\n",
       "      <td>0.000000</td>\n",
       "      <td>98065.000000</td>\n",
       "      <td>47.571900</td>\n",
       "      <td>-122.230000</td>\n",
       "      <td>1840.000000</td>\n",
       "    </tr>\n",
       "    <tr>\n",
       "      <th>75%</th>\n",
       "      <td>6.450000e+05</td>\n",
       "      <td>4.000000</td>\n",
       "      <td>2.500000</td>\n",
       "      <td>1.068775e+04</td>\n",
       "      <td>2.000000</td>\n",
       "      <td>0.000000</td>\n",
       "      <td>0.000000</td>\n",
       "      <td>4.000000</td>\n",
       "      <td>8.000000</td>\n",
       "      <td>2210.000000</td>\n",
       "      <td>600.000000</td>\n",
       "      <td>1997.000000</td>\n",
       "      <td>0.000000</td>\n",
       "      <td>98118.000000</td>\n",
       "      <td>47.678100</td>\n",
       "      <td>-122.125000</td>\n",
       "      <td>2360.000000</td>\n",
       "    </tr>\n",
       "    <tr>\n",
       "      <th>max</th>\n",
       "      <td>7.700000e+06</td>\n",
       "      <td>33.000000</td>\n",
       "      <td>8.000000</td>\n",
       "      <td>1.651359e+06</td>\n",
       "      <td>3.500000</td>\n",
       "      <td>1.000000</td>\n",
       "      <td>4.000000</td>\n",
       "      <td>5.000000</td>\n",
       "      <td>13.000000</td>\n",
       "      <td>9410.000000</td>\n",
       "      <td>4820.000000</td>\n",
       "      <td>2015.000000</td>\n",
       "      <td>2015.000000</td>\n",
       "      <td>98199.000000</td>\n",
       "      <td>47.777600</td>\n",
       "      <td>-121.315000</td>\n",
       "      <td>6210.000000</td>\n",
       "    </tr>\n",
       "  </tbody>\n",
       "</table>\n",
       "</div>"
      ],
      "text/plain": [
       "              price      bedrooms     bathrooms      sqft_lot        floors  \\\n",
       "count  2.153400e+04  21534.000000  21534.000000  2.153400e+04  21534.000000   \n",
       "mean   5.400577e+05      3.373038      2.115712  1.509060e+04      1.494126   \n",
       "std    3.660596e+05      0.926410      0.768602  4.138021e+04      0.539806   \n",
       "min    7.800000e+04      1.000000      0.500000  5.200000e+02      1.000000   \n",
       "25%    3.220000e+05      3.000000      1.750000  5.040000e+03      1.000000   \n",
       "50%    4.500000e+05      3.000000      2.250000  7.617000e+03      1.500000   \n",
       "75%    6.450000e+05      4.000000      2.500000  1.068775e+04      2.000000   \n",
       "max    7.700000e+06     33.000000      8.000000  1.651359e+06      3.500000   \n",
       "\n",
       "         waterfront          view     condition         grade    sqft_above  \\\n",
       "count  21534.000000  21534.000000  21534.000000  21534.000000  21534.000000   \n",
       "mean       0.006734      0.233863      3.409724      7.657425   1788.557537   \n",
       "std        0.081783      0.765686      0.650654      1.172643    827.745641   \n",
       "min        0.000000      0.000000      1.000000      3.000000    370.000000   \n",
       "25%        0.000000      0.000000      3.000000      7.000000   1190.000000   \n",
       "50%        0.000000      0.000000      3.000000      7.000000   1560.000000   \n",
       "75%        0.000000      0.000000      4.000000      8.000000   2210.000000   \n",
       "max        1.000000      4.000000      5.000000     13.000000   9410.000000   \n",
       "\n",
       "       sqft_basement      yr_built  yr_renovated       zipcode           lat  \\\n",
       "count   21534.000000  21534.000000  21534.000000  21534.000000  21534.000000   \n",
       "mean      299.937355   1971.002275     68.866722  98077.939352     47.560180   \n",
       "std       441.249993     29.376044    364.314552     53.506639      0.138528   \n",
       "min         0.000000   1900.000000      0.000000  98001.000000     47.155900   \n",
       "25%         0.000000   1951.000000      0.000000  98033.000000     47.471200   \n",
       "50%         0.000000   1975.000000      0.000000  98065.000000     47.571900   \n",
       "75%       600.000000   1997.000000      0.000000  98118.000000     47.678100   \n",
       "max      4820.000000   2015.000000   2015.000000  98199.000000     47.777600   \n",
       "\n",
       "               long  sqft_living15  \n",
       "count  21534.000000   21534.000000  \n",
       "mean    -122.213948    1986.299944  \n",
       "std        0.140735     685.121001  \n",
       "min     -122.519000     399.000000  \n",
       "25%     -122.328000    1490.000000  \n",
       "50%     -122.230000    1840.000000  \n",
       "75%     -122.125000    2360.000000  \n",
       "max     -121.315000    6210.000000  "
      ]
     },
     "execution_count": 44,
     "metadata": {},
     "output_type": "execute_result"
    }
   ],
   "source": [
    "df.describe()"
   ]
  },
  {
   "cell_type": "code",
   "execution_count": 45,
   "metadata": {},
   "outputs": [
    {
     "name": "stdout",
     "output_type": "stream",
     "text": [
      "<class 'pandas.core.frame.DataFrame'>\n",
      "Int64Index: 21534 entries, 0 to 21596\n",
      "Data columns (total 18 columns):\n",
      "date_sold        21534 non-null object\n",
      "price            21534 non-null int64\n",
      "bedrooms         21534 non-null int64\n",
      "bathrooms        21534 non-null float64\n",
      "sqft_lot         21534 non-null int64\n",
      "floors           21534 non-null float64\n",
      "waterfront       21534 non-null int64\n",
      "view             21534 non-null int64\n",
      "condition        21534 non-null int64\n",
      "grade            21534 non-null int64\n",
      "sqft_above       21534 non-null int64\n",
      "sqft_basement    21534 non-null int64\n",
      "yr_built         21534 non-null int64\n",
      "yr_renovated     21534 non-null int64\n",
      "zipcode          21534 non-null int64\n",
      "lat              21534 non-null float64\n",
      "long             21534 non-null float64\n",
      "sqft_living15    21534 non-null int64\n",
      "dtypes: float64(4), int64(13), object(1)\n",
      "memory usage: 3.1+ MB\n"
     ]
    }
   ],
   "source": [
    "df.info()"
   ]
  },
  {
   "cell_type": "markdown",
   "metadata": {},
   "source": [
    "##### lets look at what we think are categorical variables and confirm our findings\n",
    "##### do we need to do anything further on any of these?"
   ]
  },
  {
   "cell_type": "code",
   "execution_count": 46,
   "metadata": {},
   "outputs": [
    {
     "data": {
      "image/png": "[encoded data removed]",
      "text/plain": [
       "<Figure size 1440x216 with 4 Axes>"
      ]
     },
     "metadata": {
      "needs_background": "light"
     },
     "output_type": "display_data"
    }
   ],
   "source": [
    "fig, axes = plt.subplots(nrows=1, ncols=4, figsize=(20,3))\n",
    "\n",
    "for xcol, ax in zip([ 'bedrooms', 'bathrooms', 'floors', 'waterfront'], axes):\n",
    "    df.plot(kind='scatter', x=xcol, y='price', ax=ax, alpha=0.4, color='b')"
   ]
  },
  {
   "cell_type": "code",
   "execution_count": 47,
   "metadata": {},
   "outputs": [
    {
     "data": {
      "image/png": "[encoded data removed]",
      "text/plain": [
       "<Figure size 1440x216 with 4 Axes>"
      ]
     },
     "metadata": {
      "needs_background": "light"
     },
     "output_type": "display_data"
    }
   ],
   "source": [
    "fig, axes = plt.subplots(nrows=1, ncols=4, figsize=(20,3))\n",
    "\n",
    "for xcol, ax in zip([ 'view', 'condition', 'grade', 'zipcode'], axes):\n",
    "    df.plot(kind='scatter', x=xcol, y='price', ax=ax, alpha=0.4, color='b')"
   ]
  },
  {
   "cell_type": "markdown",
   "metadata": {},
   "source": [
    "lets look at bedrooms and remove outliers<br>\n",
    "same for bathrooms<br>\n",
    "waterfront is already binary; is changing type to category sufficient or do we need to label encode?<br>\n",
    "roll zipcodes into  towns<br>"
   ]
  },
  {
   "cell_type": "markdown",
   "metadata": {},
   "source": [
    "makes sense to cut some outlier observations from the bedroom and bathroom features to bring them closer to a normal distribution\n"
   ]
  },
  {
   "cell_type": "markdown",
   "metadata": {},
   "source": [
    "##### remove outliers from categoricals"
   ]
  },
  {
   "cell_type": "code",
   "execution_count": 48,
   "metadata": {},
   "outputs": [],
   "source": [
    "df = df[df.bedrooms < 10]\n",
    "df = df[df.bathrooms < 5]"
   ]
  },
  {
   "cell_type": "code",
   "execution_count": 49,
   "metadata": {},
   "outputs": [
    {
     "data": {
      "image/png": "[encoded data removed]",
      "text/plain": [
       "<Figure size 1440x216 with 4 Axes>"
      ]
     },
     "metadata": {
      "needs_background": "light"
     },
     "output_type": "display_data"
    }
   ],
   "source": [
    "fig, axes = plt.subplots(nrows=1, ncols=4, figsize=(20,3))\n",
    "\n",
    "for xcol, ax in zip([ 'bedrooms', 'bathrooms'], axes):\n",
    "    df.plot(kind='scatter', x=xcol, y='price', ax=ax, alpha=0.4, color='b')"
   ]
  },
  {
   "cell_type": "markdown",
   "metadata": {},
   "source": [
    "##### lets plot the continuous/discrete variables"
   ]
  },
  {
   "cell_type": "code",
   "execution_count": 50,
   "metadata": {},
   "outputs": [
    {
     "ename": "KeyError",
     "evalue": "'sqft_living'",
     "output_type": "error",
     "traceback": [
      "\u001b[1;31m---------------------------------------------------------------------------\u001b[0m",
      "\u001b[1;31mKeyError\u001b[0m                                  Traceback (most recent call last)",
      "\u001b[1;32m~\\Anaconda3\\envs\\learn-env\\lib\\site-packages\\pandas\\core\\indexes\\base.py\u001b[0m in \u001b[0;36mget_loc\u001b[1;34m(self, key, method, tolerance)\u001b[0m\n\u001b[0;32m   3077\u001b[0m             \u001b[1;32mtry\u001b[0m\u001b[1;33m:\u001b[0m\u001b[1;33m\u001b[0m\u001b[0m\n\u001b[1;32m-> 3078\u001b[1;33m                 \u001b[1;32mreturn\u001b[0m \u001b[0mself\u001b[0m\u001b[1;33m.\u001b[0m\u001b[0m_engine\u001b[0m\u001b[1;33m.\u001b[0m\u001b[0mget_loc\u001b[0m\u001b[1;33m(\u001b[0m\u001b[0mkey\u001b[0m\u001b[1;33m)\u001b[0m\u001b[1;33m\u001b[0m\u001b[0m\n\u001b[0m\u001b[0;32m   3079\u001b[0m             \u001b[1;32mexcept\u001b[0m \u001b[0mKeyError\u001b[0m\u001b[1;33m:\u001b[0m\u001b[1;33m\u001b[0m\u001b[0m\n",
      "\u001b[1;32mpandas\\_libs\\index.pyx\u001b[0m in \u001b[0;36mpandas._libs.index.IndexEngine.get_loc\u001b[1;34m()\u001b[0m\n",
      "\u001b[1;32mpandas\\_libs\\index.pyx\u001b[0m in \u001b[0;36mpandas._libs.index.IndexEngine.get_loc\u001b[1;34m()\u001b[0m\n",
      "\u001b[1;32mpandas\\_libs\\hashtable_class_helper.pxi\u001b[0m in \u001b[0;36mpandas._libs.hashtable.PyObjectHashTable.get_item\u001b[1;34m()\u001b[0m\n",
      "\u001b[1;32mpandas\\_libs\\hashtable_class_helper.pxi\u001b[0m in \u001b[0;36mpandas._libs.hashtable.PyObjectHashTable.get_item\u001b[1;34m()\u001b[0m\n",
      "\u001b[1;31mKeyError\u001b[0m: 'sqft_living'",
      "\nDuring handling of the above exception, another exception occurred:\n",
      "\u001b[1;31mKeyError\u001b[0m                                  Traceback (most recent call last)",
      "\u001b[1;32m<ipython-input-50-3ac0bb624f80>\u001b[0m in \u001b[0;36m<module>\u001b[1;34m()\u001b[0m\n\u001b[0;32m      2\u001b[0m \u001b[1;33m\u001b[0m\u001b[0m\n\u001b[0;32m      3\u001b[0m \u001b[1;32mfor\u001b[0m \u001b[0mxcol\u001b[0m\u001b[1;33m,\u001b[0m \u001b[0max\u001b[0m \u001b[1;32min\u001b[0m \u001b[0mzip\u001b[0m\u001b[1;33m(\u001b[0m\u001b[1;33m[\u001b[0m \u001b[1;34m'sqft_living'\u001b[0m\u001b[1;33m,\u001b[0m \u001b[1;34m'sqft_lot'\u001b[0m\u001b[1;33m,\u001b[0m \u001b[1;34m'sqft_above'\u001b[0m\u001b[1;33m,\u001b[0m \u001b[1;34m'sqft_basement'\u001b[0m\u001b[1;33m]\u001b[0m\u001b[1;33m,\u001b[0m \u001b[0maxes\u001b[0m\u001b[1;33m)\u001b[0m\u001b[1;33m:\u001b[0m\u001b[1;33m\u001b[0m\u001b[0m\n\u001b[1;32m----> 4\u001b[1;33m     \u001b[0mdf\u001b[0m\u001b[1;33m.\u001b[0m\u001b[0mplot\u001b[0m\u001b[1;33m(\u001b[0m\u001b[0mkind\u001b[0m\u001b[1;33m=\u001b[0m\u001b[1;34m'scatter'\u001b[0m\u001b[1;33m,\u001b[0m \u001b[0mx\u001b[0m\u001b[1;33m=\u001b[0m\u001b[0mxcol\u001b[0m\u001b[1;33m,\u001b[0m \u001b[0my\u001b[0m\u001b[1;33m=\u001b[0m\u001b[1;34m'price'\u001b[0m\u001b[1;33m,\u001b[0m \u001b[0max\u001b[0m\u001b[1;33m=\u001b[0m\u001b[0max\u001b[0m\u001b[1;33m,\u001b[0m \u001b[0malpha\u001b[0m\u001b[1;33m=\u001b[0m\u001b[1;36m0.4\u001b[0m\u001b[1;33m,\u001b[0m \u001b[0mcolor\u001b[0m\u001b[1;33m=\u001b[0m\u001b[1;34m'b'\u001b[0m\u001b[1;33m)\u001b[0m\u001b[1;33m\u001b[0m\u001b[0m\n\u001b[0m",
      "\u001b[1;32m~\\Anaconda3\\envs\\learn-env\\lib\\site-packages\\pandas\\plotting\\_core.py\u001b[0m in \u001b[0;36m__call__\u001b[1;34m(self, x, y, kind, ax, subplots, sharex, sharey, layout, figsize, use_index, title, grid, legend, style, logx, logy, loglog, xticks, yticks, xlim, ylim, rot, fontsize, colormap, table, yerr, xerr, secondary_y, sort_columns, **kwds)\u001b[0m\n\u001b[0;32m   2939\u001b[0m                           \u001b[0mfontsize\u001b[0m\u001b[1;33m=\u001b[0m\u001b[0mfontsize\u001b[0m\u001b[1;33m,\u001b[0m \u001b[0mcolormap\u001b[0m\u001b[1;33m=\u001b[0m\u001b[0mcolormap\u001b[0m\u001b[1;33m,\u001b[0m \u001b[0mtable\u001b[0m\u001b[1;33m=\u001b[0m\u001b[0mtable\u001b[0m\u001b[1;33m,\u001b[0m\u001b[1;33m\u001b[0m\u001b[0m\n\u001b[0;32m   2940\u001b[0m                           \u001b[0myerr\u001b[0m\u001b[1;33m=\u001b[0m\u001b[0myerr\u001b[0m\u001b[1;33m,\u001b[0m \u001b[0mxerr\u001b[0m\u001b[1;33m=\u001b[0m\u001b[0mxerr\u001b[0m\u001b[1;33m,\u001b[0m \u001b[0msecondary_y\u001b[0m\u001b[1;33m=\u001b[0m\u001b[0msecondary_y\u001b[0m\u001b[1;33m,\u001b[0m\u001b[1;33m\u001b[0m\u001b[0m\n\u001b[1;32m-> 2941\u001b[1;33m                           sort_columns=sort_columns, **kwds)\n\u001b[0m\u001b[0;32m   2942\u001b[0m     \u001b[0m__call__\u001b[0m\u001b[1;33m.\u001b[0m\u001b[0m__doc__\u001b[0m \u001b[1;33m=\u001b[0m \u001b[0mplot_frame\u001b[0m\u001b[1;33m.\u001b[0m\u001b[0m__doc__\u001b[0m\u001b[1;33m\u001b[0m\u001b[0m\n\u001b[0;32m   2943\u001b[0m \u001b[1;33m\u001b[0m\u001b[0m\n",
      "\u001b[1;32m~\\Anaconda3\\envs\\learn-env\\lib\\site-packages\\pandas\\plotting\\_core.py\u001b[0m in \u001b[0;36mplot_frame\u001b[1;34m(data, x, y, kind, ax, subplots, sharex, sharey, layout, figsize, use_index, title, grid, legend, style, logx, logy, loglog, xticks, yticks, xlim, ylim, rot, fontsize, colormap, table, yerr, xerr, secondary_y, sort_columns, **kwds)\u001b[0m\n\u001b[0;32m   1975\u001b[0m                  \u001b[0myerr\u001b[0m\u001b[1;33m=\u001b[0m\u001b[0myerr\u001b[0m\u001b[1;33m,\u001b[0m \u001b[0mxerr\u001b[0m\u001b[1;33m=\u001b[0m\u001b[0mxerr\u001b[0m\u001b[1;33m,\u001b[0m\u001b[1;33m\u001b[0m\u001b[0m\n\u001b[0;32m   1976\u001b[0m                  \u001b[0msecondary_y\u001b[0m\u001b[1;33m=\u001b[0m\u001b[0msecondary_y\u001b[0m\u001b[1;33m,\u001b[0m \u001b[0msort_columns\u001b[0m\u001b[1;33m=\u001b[0m\u001b[0msort_columns\u001b[0m\u001b[1;33m,\u001b[0m\u001b[1;33m\u001b[0m\u001b[0m\n\u001b[1;32m-> 1977\u001b[1;33m                  **kwds)\n\u001b[0m\u001b[0;32m   1978\u001b[0m \u001b[1;33m\u001b[0m\u001b[0m\n\u001b[0;32m   1979\u001b[0m \u001b[1;33m\u001b[0m\u001b[0m\n",
      "\u001b[1;32m~\\Anaconda3\\envs\\learn-env\\lib\\site-packages\\pandas\\plotting\\_core.py\u001b[0m in \u001b[0;36m_plot\u001b[1;34m(data, x, y, subplots, ax, kind, **kwds)\u001b[0m\n\u001b[0;32m   1741\u001b[0m         \u001b[1;32mif\u001b[0m \u001b[0misinstance\u001b[0m\u001b[1;33m(\u001b[0m\u001b[0mdata\u001b[0m\u001b[1;33m,\u001b[0m \u001b[0mABCDataFrame\u001b[0m\u001b[1;33m)\u001b[0m\u001b[1;33m:\u001b[0m\u001b[1;33m\u001b[0m\u001b[0m\n\u001b[0;32m   1742\u001b[0m             plot_obj = klass(data, x=x, y=y, subplots=subplots, ax=ax,\n\u001b[1;32m-> 1743\u001b[1;33m                              kind=kind, **kwds)\n\u001b[0m\u001b[0;32m   1744\u001b[0m         \u001b[1;32melse\u001b[0m\u001b[1;33m:\u001b[0m\u001b[1;33m\u001b[0m\u001b[0m\n\u001b[0;32m   1745\u001b[0m             raise ValueError(\"plot kind %r can only be used for data frames\"\n",
      "\u001b[1;32m~\\Anaconda3\\envs\\learn-env\\lib\\site-packages\\pandas\\plotting\\_core.py\u001b[0m in \u001b[0;36m__init__\u001b[1;34m(self, data, x, y, s, c, **kwargs)\u001b[0m\n\u001b[0;32m    843\u001b[0m             \u001b[1;31m# the handling of this argument later\u001b[0m\u001b[1;33m\u001b[0m\u001b[1;33m\u001b[0m\u001b[0m\n\u001b[0;32m    844\u001b[0m             \u001b[0ms\u001b[0m \u001b[1;33m=\u001b[0m \u001b[1;36m20\u001b[0m\u001b[1;33m\u001b[0m\u001b[0m\n\u001b[1;32m--> 845\u001b[1;33m         \u001b[0msuper\u001b[0m\u001b[1;33m(\u001b[0m\u001b[0mScatterPlot\u001b[0m\u001b[1;33m,\u001b[0m \u001b[0mself\u001b[0m\u001b[1;33m)\u001b[0m\u001b[1;33m.\u001b[0m\u001b[0m__init__\u001b[0m\u001b[1;33m(\u001b[0m\u001b[0mdata\u001b[0m\u001b[1;33m,\u001b[0m \u001b[0mx\u001b[0m\u001b[1;33m,\u001b[0m \u001b[0my\u001b[0m\u001b[1;33m,\u001b[0m \u001b[0ms\u001b[0m\u001b[1;33m=\u001b[0m\u001b[0ms\u001b[0m\u001b[1;33m,\u001b[0m \u001b[1;33m**\u001b[0m\u001b[0mkwargs\u001b[0m\u001b[1;33m)\u001b[0m\u001b[1;33m\u001b[0m\u001b[0m\n\u001b[0m\u001b[0;32m    846\u001b[0m         \u001b[1;32mif\u001b[0m \u001b[0mis_integer\u001b[0m\u001b[1;33m(\u001b[0m\u001b[0mc\u001b[0m\u001b[1;33m)\u001b[0m \u001b[1;32mand\u001b[0m \u001b[1;32mnot\u001b[0m \u001b[0mself\u001b[0m\u001b[1;33m.\u001b[0m\u001b[0mdata\u001b[0m\u001b[1;33m.\u001b[0m\u001b[0mcolumns\u001b[0m\u001b[1;33m.\u001b[0m\u001b[0mholds_integer\u001b[0m\u001b[1;33m(\u001b[0m\u001b[1;33m)\u001b[0m\u001b[1;33m:\u001b[0m\u001b[1;33m\u001b[0m\u001b[0m\n\u001b[0;32m    847\u001b[0m             \u001b[0mc\u001b[0m \u001b[1;33m=\u001b[0m \u001b[0mself\u001b[0m\u001b[1;33m.\u001b[0m\u001b[0mdata\u001b[0m\u001b[1;33m.\u001b[0m\u001b[0mcolumns\u001b[0m\u001b[1;33m[\u001b[0m\u001b[0mc\u001b[0m\u001b[1;33m]\u001b[0m\u001b[1;33m\u001b[0m\u001b[0m\n",
      "\u001b[1;32m~\\Anaconda3\\envs\\learn-env\\lib\\site-packages\\pandas\\plotting\\_core.py\u001b[0m in \u001b[0;36m__init__\u001b[1;34m(self, data, x, y, **kwargs)\u001b[0m\n\u001b[0;32m    817\u001b[0m         \u001b[1;32mif\u001b[0m \u001b[0mis_integer\u001b[0m\u001b[1;33m(\u001b[0m\u001b[0my\u001b[0m\u001b[1;33m)\u001b[0m \u001b[1;32mand\u001b[0m \u001b[1;32mnot\u001b[0m \u001b[0mself\u001b[0m\u001b[1;33m.\u001b[0m\u001b[0mdata\u001b[0m\u001b[1;33m.\u001b[0m\u001b[0mcolumns\u001b[0m\u001b[1;33m.\u001b[0m\u001b[0mholds_integer\u001b[0m\u001b[1;33m(\u001b[0m\u001b[1;33m)\u001b[0m\u001b[1;33m:\u001b[0m\u001b[1;33m\u001b[0m\u001b[0m\n\u001b[0;32m    818\u001b[0m             \u001b[0my\u001b[0m \u001b[1;33m=\u001b[0m \u001b[0mself\u001b[0m\u001b[1;33m.\u001b[0m\u001b[0mdata\u001b[0m\u001b[1;33m.\u001b[0m\u001b[0mcolumns\u001b[0m\u001b[1;33m[\u001b[0m\u001b[0my\u001b[0m\u001b[1;33m]\u001b[0m\u001b[1;33m\u001b[0m\u001b[0m\n\u001b[1;32m--> 819\u001b[1;33m         \u001b[1;32mif\u001b[0m \u001b[0mlen\u001b[0m\u001b[1;33m(\u001b[0m\u001b[0mself\u001b[0m\u001b[1;33m.\u001b[0m\u001b[0mdata\u001b[0m\u001b[1;33m[\u001b[0m\u001b[0mx\u001b[0m\u001b[1;33m]\u001b[0m\u001b[1;33m.\u001b[0m\u001b[0m_get_numeric_data\u001b[0m\u001b[1;33m(\u001b[0m\u001b[1;33m)\u001b[0m\u001b[1;33m)\u001b[0m \u001b[1;33m==\u001b[0m \u001b[1;36m0\u001b[0m\u001b[1;33m:\u001b[0m\u001b[1;33m\u001b[0m\u001b[0m\n\u001b[0m\u001b[0;32m    820\u001b[0m             \u001b[1;32mraise\u001b[0m \u001b[0mValueError\u001b[0m\u001b[1;33m(\u001b[0m\u001b[0mself\u001b[0m\u001b[1;33m.\u001b[0m\u001b[0m_kind\u001b[0m \u001b[1;33m+\u001b[0m \u001b[1;34m' requires x column to be numeric'\u001b[0m\u001b[1;33m)\u001b[0m\u001b[1;33m\u001b[0m\u001b[0m\n\u001b[0;32m    821\u001b[0m         \u001b[1;32mif\u001b[0m \u001b[0mlen\u001b[0m\u001b[1;33m(\u001b[0m\u001b[0mself\u001b[0m\u001b[1;33m.\u001b[0m\u001b[0mdata\u001b[0m\u001b[1;33m[\u001b[0m\u001b[0my\u001b[0m\u001b[1;33m]\u001b[0m\u001b[1;33m.\u001b[0m\u001b[0m_get_numeric_data\u001b[0m\u001b[1;33m(\u001b[0m\u001b[1;33m)\u001b[0m\u001b[1;33m)\u001b[0m \u001b[1;33m==\u001b[0m \u001b[1;36m0\u001b[0m\u001b[1;33m:\u001b[0m\u001b[1;33m\u001b[0m\u001b[0m\n",
      "\u001b[1;32m~\\Anaconda3\\envs\\learn-env\\lib\\site-packages\\pandas\\core\\frame.py\u001b[0m in \u001b[0;36m__getitem__\u001b[1;34m(self, key)\u001b[0m\n\u001b[0;32m   2686\u001b[0m             \u001b[1;32mreturn\u001b[0m \u001b[0mself\u001b[0m\u001b[1;33m.\u001b[0m\u001b[0m_getitem_multilevel\u001b[0m\u001b[1;33m(\u001b[0m\u001b[0mkey\u001b[0m\u001b[1;33m)\u001b[0m\u001b[1;33m\u001b[0m\u001b[0m\n\u001b[0;32m   2687\u001b[0m         \u001b[1;32melse\u001b[0m\u001b[1;33m:\u001b[0m\u001b[1;33m\u001b[0m\u001b[0m\n\u001b[1;32m-> 2688\u001b[1;33m             \u001b[1;32mreturn\u001b[0m \u001b[0mself\u001b[0m\u001b[1;33m.\u001b[0m\u001b[0m_getitem_column\u001b[0m\u001b[1;33m(\u001b[0m\u001b[0mkey\u001b[0m\u001b[1;33m)\u001b[0m\u001b[1;33m\u001b[0m\u001b[0m\n\u001b[0m\u001b[0;32m   2689\u001b[0m \u001b[1;33m\u001b[0m\u001b[0m\n\u001b[0;32m   2690\u001b[0m     \u001b[1;32mdef\u001b[0m \u001b[0m_getitem_column\u001b[0m\u001b[1;33m(\u001b[0m\u001b[0mself\u001b[0m\u001b[1;33m,\u001b[0m \u001b[0mkey\u001b[0m\u001b[1;33m)\u001b[0m\u001b[1;33m:\u001b[0m\u001b[1;33m\u001b[0m\u001b[0m\n",
      "\u001b[1;32m~\\Anaconda3\\envs\\learn-env\\lib\\site-packages\\pandas\\core\\frame.py\u001b[0m in \u001b[0;36m_getitem_column\u001b[1;34m(self, key)\u001b[0m\n\u001b[0;32m   2693\u001b[0m         \u001b[1;31m# get column\u001b[0m\u001b[1;33m\u001b[0m\u001b[1;33m\u001b[0m\u001b[0m\n\u001b[0;32m   2694\u001b[0m         \u001b[1;32mif\u001b[0m \u001b[0mself\u001b[0m\u001b[1;33m.\u001b[0m\u001b[0mcolumns\u001b[0m\u001b[1;33m.\u001b[0m\u001b[0mis_unique\u001b[0m\u001b[1;33m:\u001b[0m\u001b[1;33m\u001b[0m\u001b[0m\n\u001b[1;32m-> 2695\u001b[1;33m             \u001b[1;32mreturn\u001b[0m \u001b[0mself\u001b[0m\u001b[1;33m.\u001b[0m\u001b[0m_get_item_cache\u001b[0m\u001b[1;33m(\u001b[0m\u001b[0mkey\u001b[0m\u001b[1;33m)\u001b[0m\u001b[1;33m\u001b[0m\u001b[0m\n\u001b[0m\u001b[0;32m   2696\u001b[0m \u001b[1;33m\u001b[0m\u001b[0m\n\u001b[0;32m   2697\u001b[0m         \u001b[1;31m# duplicate columns & possible reduce dimensionality\u001b[0m\u001b[1;33m\u001b[0m\u001b[1;33m\u001b[0m\u001b[0m\n",
      "\u001b[1;32m~\\Anaconda3\\envs\\learn-env\\lib\\site-packages\\pandas\\core\\generic.py\u001b[0m in \u001b[0;36m_get_item_cache\u001b[1;34m(self, item)\u001b[0m\n\u001b[0;32m   2487\u001b[0m         \u001b[0mres\u001b[0m \u001b[1;33m=\u001b[0m \u001b[0mcache\u001b[0m\u001b[1;33m.\u001b[0m\u001b[0mget\u001b[0m\u001b[1;33m(\u001b[0m\u001b[0mitem\u001b[0m\u001b[1;33m)\u001b[0m\u001b[1;33m\u001b[0m\u001b[0m\n\u001b[0;32m   2488\u001b[0m         \u001b[1;32mif\u001b[0m \u001b[0mres\u001b[0m \u001b[1;32mis\u001b[0m \u001b[1;32mNone\u001b[0m\u001b[1;33m:\u001b[0m\u001b[1;33m\u001b[0m\u001b[0m\n\u001b[1;32m-> 2489\u001b[1;33m             \u001b[0mvalues\u001b[0m \u001b[1;33m=\u001b[0m \u001b[0mself\u001b[0m\u001b[1;33m.\u001b[0m\u001b[0m_data\u001b[0m\u001b[1;33m.\u001b[0m\u001b[0mget\u001b[0m\u001b[1;33m(\u001b[0m\u001b[0mitem\u001b[0m\u001b[1;33m)\u001b[0m\u001b[1;33m\u001b[0m\u001b[0m\n\u001b[0m\u001b[0;32m   2490\u001b[0m             \u001b[0mres\u001b[0m \u001b[1;33m=\u001b[0m \u001b[0mself\u001b[0m\u001b[1;33m.\u001b[0m\u001b[0m_box_item_values\u001b[0m\u001b[1;33m(\u001b[0m\u001b[0mitem\u001b[0m\u001b[1;33m,\u001b[0m \u001b[0mvalues\u001b[0m\u001b[1;33m)\u001b[0m\u001b[1;33m\u001b[0m\u001b[0m\n\u001b[0;32m   2491\u001b[0m             \u001b[0mcache\u001b[0m\u001b[1;33m[\u001b[0m\u001b[0mitem\u001b[0m\u001b[1;33m]\u001b[0m \u001b[1;33m=\u001b[0m \u001b[0mres\u001b[0m\u001b[1;33m\u001b[0m\u001b[0m\n",
      "\u001b[1;32m~\\Anaconda3\\envs\\learn-env\\lib\\site-packages\\pandas\\core\\internals.py\u001b[0m in \u001b[0;36mget\u001b[1;34m(self, item, fastpath)\u001b[0m\n\u001b[0;32m   4113\u001b[0m \u001b[1;33m\u001b[0m\u001b[0m\n\u001b[0;32m   4114\u001b[0m             \u001b[1;32mif\u001b[0m \u001b[1;32mnot\u001b[0m \u001b[0misna\u001b[0m\u001b[1;33m(\u001b[0m\u001b[0mitem\u001b[0m\u001b[1;33m)\u001b[0m\u001b[1;33m:\u001b[0m\u001b[1;33m\u001b[0m\u001b[0m\n\u001b[1;32m-> 4115\u001b[1;33m                 \u001b[0mloc\u001b[0m \u001b[1;33m=\u001b[0m \u001b[0mself\u001b[0m\u001b[1;33m.\u001b[0m\u001b[0mitems\u001b[0m\u001b[1;33m.\u001b[0m\u001b[0mget_loc\u001b[0m\u001b[1;33m(\u001b[0m\u001b[0mitem\u001b[0m\u001b[1;33m)\u001b[0m\u001b[1;33m\u001b[0m\u001b[0m\n\u001b[0m\u001b[0;32m   4116\u001b[0m             \u001b[1;32melse\u001b[0m\u001b[1;33m:\u001b[0m\u001b[1;33m\u001b[0m\u001b[0m\n\u001b[0;32m   4117\u001b[0m                 \u001b[0mindexer\u001b[0m \u001b[1;33m=\u001b[0m \u001b[0mnp\u001b[0m\u001b[1;33m.\u001b[0m\u001b[0marange\u001b[0m\u001b[1;33m(\u001b[0m\u001b[0mlen\u001b[0m\u001b[1;33m(\u001b[0m\u001b[0mself\u001b[0m\u001b[1;33m.\u001b[0m\u001b[0mitems\u001b[0m\u001b[1;33m)\u001b[0m\u001b[1;33m)\u001b[0m\u001b[1;33m[\u001b[0m\u001b[0misna\u001b[0m\u001b[1;33m(\u001b[0m\u001b[0mself\u001b[0m\u001b[1;33m.\u001b[0m\u001b[0mitems\u001b[0m\u001b[1;33m)\u001b[0m\u001b[1;33m]\u001b[0m\u001b[1;33m\u001b[0m\u001b[0m\n",
      "\u001b[1;32m~\\Anaconda3\\envs\\learn-env\\lib\\site-packages\\pandas\\core\\indexes\\base.py\u001b[0m in \u001b[0;36mget_loc\u001b[1;34m(self, key, method, tolerance)\u001b[0m\n\u001b[0;32m   3078\u001b[0m                 \u001b[1;32mreturn\u001b[0m \u001b[0mself\u001b[0m\u001b[1;33m.\u001b[0m\u001b[0m_engine\u001b[0m\u001b[1;33m.\u001b[0m\u001b[0mget_loc\u001b[0m\u001b[1;33m(\u001b[0m\u001b[0mkey\u001b[0m\u001b[1;33m)\u001b[0m\u001b[1;33m\u001b[0m\u001b[0m\n\u001b[0;32m   3079\u001b[0m             \u001b[1;32mexcept\u001b[0m \u001b[0mKeyError\u001b[0m\u001b[1;33m:\u001b[0m\u001b[1;33m\u001b[0m\u001b[0m\n\u001b[1;32m-> 3080\u001b[1;33m                 \u001b[1;32mreturn\u001b[0m \u001b[0mself\u001b[0m\u001b[1;33m.\u001b[0m\u001b[0m_engine\u001b[0m\u001b[1;33m.\u001b[0m\u001b[0mget_loc\u001b[0m\u001b[1;33m(\u001b[0m\u001b[0mself\u001b[0m\u001b[1;33m.\u001b[0m\u001b[0m_maybe_cast_indexer\u001b[0m\u001b[1;33m(\u001b[0m\u001b[0mkey\u001b[0m\u001b[1;33m)\u001b[0m\u001b[1;33m)\u001b[0m\u001b[1;33m\u001b[0m\u001b[0m\n\u001b[0m\u001b[0;32m   3081\u001b[0m \u001b[1;33m\u001b[0m\u001b[0m\n\u001b[0;32m   3082\u001b[0m         \u001b[0mindexer\u001b[0m \u001b[1;33m=\u001b[0m \u001b[0mself\u001b[0m\u001b[1;33m.\u001b[0m\u001b[0mget_indexer\u001b[0m\u001b[1;33m(\u001b[0m\u001b[1;33m[\u001b[0m\u001b[0mkey\u001b[0m\u001b[1;33m]\u001b[0m\u001b[1;33m,\u001b[0m \u001b[0mmethod\u001b[0m\u001b[1;33m=\u001b[0m\u001b[0mmethod\u001b[0m\u001b[1;33m,\u001b[0m \u001b[0mtolerance\u001b[0m\u001b[1;33m=\u001b[0m\u001b[0mtolerance\u001b[0m\u001b[1;33m)\u001b[0m\u001b[1;33m\u001b[0m\u001b[0m\n",
      "\u001b[1;32mpandas\\_libs\\index.pyx\u001b[0m in \u001b[0;36mpandas._libs.index.IndexEngine.get_loc\u001b[1;34m()\u001b[0m\n",
      "\u001b[1;32mpandas\\_libs\\index.pyx\u001b[0m in \u001b[0;36mpandas._libs.index.IndexEngine.get_loc\u001b[1;34m()\u001b[0m\n",
      "\u001b[1;32mpandas\\_libs\\hashtable_class_helper.pxi\u001b[0m in \u001b[0;36mpandas._libs.hashtable.PyObjectHashTable.get_item\u001b[1;34m()\u001b[0m\n",
      "\u001b[1;32mpandas\\_libs\\hashtable_class_helper.pxi\u001b[0m in \u001b[0;36mpandas._libs.hashtable.PyObjectHashTable.get_item\u001b[1;34m()\u001b[0m\n",
      "\u001b[1;31mKeyError\u001b[0m: 'sqft_living'"
     ]
    },
    {
     "data": {
      "image/png": "[encoded data removed]",
      "text/plain": [
       "<Figure size 1440x216 with 4 Axes>"
      ]
     },
     "metadata": {
      "needs_background": "light"
     },
     "output_type": "display_data"
    }
   ],
   "source": [
    "fig, axes = plt.subplots(nrows=1, ncols=4, figsize=(20,3))\n",
    "\n",
    "for xcol, ax in zip([ 'sqft_living', 'sqft_lot', 'sqft_above', 'sqft_basement'], axes):\n",
    "    df.plot(kind='scatter', x=xcol, y='price', ax=ax, alpha=0.4, color='b')"
   ]
  },
  {
   "cell_type": "code",
   "execution_count": null,
   "metadata": {},
   "outputs": [],
   "source": [
    "fig, axes = plt.subplots(nrows=1, ncols=4, figsize=(20,3))\n",
    "\n",
    "for xcol, ax in zip([ 'yr_built', 'yr_renovated', 'sqft_living15', 'sqft_lot15'], axes):\n",
    "    df.plot(kind='scatter', x=xcol, y='price', ax=ax, alpha=0.4, color='b')"
   ]
  },
  {
   "cell_type": "markdown",
   "metadata": {},
   "source": [
    "##### clearly we can remove outliers from almost all of these features"
   ]
  },
  {
   "cell_type": "code",
   "execution_count": null,
   "metadata": {},
   "outputs": [],
   "source": [
    "df.shape"
   ]
  },
  {
   "cell_type": "code",
   "execution_count": null,
   "metadata": {},
   "outputs": [],
   "source": [
    "df = df[df.sqft_living < 6000]\n",
    "df = df[df.sqft_lot < 500000]\n",
    "df = df[df.sqft_above < 6000]\n",
    "df = df[df.sqft_basement < 2000]\n",
    "df = df[df.sqft_living15 < 5000]\n",
    "df = df[df.sqft_lot15 < 300000]"
   ]
  },
  {
   "cell_type": "code",
   "execution_count": null,
   "metadata": {},
   "outputs": [],
   "source": [
    "fig, axes = plt.subplots(nrows=1, ncols=4, figsize=(20,3))\n",
    "\n",
    "for xcol, ax in zip([ 'sqft_living', 'sqft_lot', 'sqft_above', 'sqft_basement'], axes):\n",
    "    df.plot(kind='scatter', x=xcol, y='price', ax=ax, alpha=0.4, color='b')"
   ]
  },
  {
   "cell_type": "code",
   "execution_count": null,
   "metadata": {},
   "outputs": [],
   "source": [
    "fig, axes = plt.subplots(nrows=1, ncols=4, figsize=(20,3))\n",
    "\n",
    "for xcol, ax in zip([ 'sqft_living15', 'sqft_lot15'], axes):\n",
    "    df.plot(kind='scatter', x=xcol, y='price', ax=ax, alpha=0.4, color='b')"
   ]
  },
  {
   "cell_type": "markdown",
   "metadata": {},
   "source": [
    "#### bin(?) zip codes into towns and merge with df"
   ]
  },
  {
   "cell_type": "code",
   "execution_count": null,
   "metadata": {},
   "outputs": [],
   "source": [
    "df1 = pd.read_csv(\"zipcode_town.csv\")"
   ]
  },
  {
   "cell_type": "code",
   "execution_count": null,
   "metadata": {},
   "outputs": [],
   "source": [
    "df1.head()"
   ]
  },
  {
   "cell_type": "markdown",
   "metadata": {},
   "source": [
    "### merge both dataframes on zip code and pull in town"
   ]
  },
  {
   "cell_type": "code",
   "execution_count": null,
   "metadata": {},
   "outputs": [],
   "source": [
    "df2 = df.merge(df1, on = \"zipcode\", how = \"left\")"
   ]
  },
  {
   "cell_type": "code",
   "execution_count": null,
   "metadata": {},
   "outputs": [],
   "source": [
    "df2.info()"
   ]
  },
  {
   "cell_type": "code",
   "execution_count": null,
   "metadata": {},
   "outputs": [],
   "source": [
    "df2.tail()"
   ]
  },
  {
   "cell_type": "markdown",
   "metadata": {},
   "source": [
    "#### remove zipcode, lat and long"
   ]
  },
  {
   "cell_type": "code",
   "execution_count": null,
   "metadata": {},
   "outputs": [],
   "source": [
    "df = df2.drop(columns = \"zipcode\")"
   ]
  },
  {
   "cell_type": "code",
   "execution_count": null,
   "metadata": {},
   "outputs": [],
   "source": [
    "df = df.drop(columns = ['lat', 'long'])"
   ]
  },
  {
   "cell_type": "code",
   "execution_count": null,
   "metadata": {},
   "outputs": [],
   "source": [
    "df.info()"
   ]
  },
  {
   "cell_type": "code",
   "execution_count": null,
   "metadata": {},
   "outputs": [],
   "source": [
    "df.head()"
   ]
  },
  {
   "cell_type": "markdown",
   "metadata": {},
   "source": [
    "<font color = 'red'><font size = 5> **END EDA**"
   ]
  },
  {
   "cell_type": "markdown",
   "metadata": {},
   "source": [
    "<font color = 'green'><font size = 5> **Begin Modeling**"
   ]
  },
  {
   "cell_type": "markdown",
   "metadata": {},
   "source": [
    "##### change type to category on categoricals for modeling"
   ]
  },
  {
   "cell_type": "code",
   "execution_count": null,
   "metadata": {},
   "outputs": [],
   "source": [
    "df.date_sold = df.date_sold.astype(\"datetime64\")\n",
    "df.bedrooms = df.bedrooms.astype('category')\n",
    "df.bathrooms = df.bathrooms.astype('category')\n",
    "df.floors = df.floors.astype('category')\n",
    "df.waterfront = df.waterfront.astype('category')\n",
    "df.view = df.view.astype('category')\n",
    "df.condition = df.condition.astype('category')\n",
    "df.grade = df.grade.astype('category')"
   ]
  },
  {
   "cell_type": "code",
   "execution_count": null,
   "metadata": {},
   "outputs": [],
   "source": [
    "col_names = df.describe().drop([ 'price'],axis =1)\n",
    "results = [['ind_var', 'r_squared', 'intercept', 'slope', 'p-value' ]]\n",
    "for idx, val in enumerate(col_names):\n",
    "    print (\"Kings County: price~\" + val)\n",
    "    print (\"------------------------------\")\n",
    "\n",
    "    f = 'price~' + val\n",
    "    model = smf.ols(formula=f, data=df).fit()\n",
    "    X_new = pd.DataFrame({val: [df[val].min(), df[val].max()]});\n",
    "    preds = model.predict(X_new)\n",
    "    results.append([val, model.rsquared, model.params[0], model.params[1], model.pvalues[1] ])\n",
    "    print(results[idx+1])"
   ]
  },
  {
   "cell_type": "code",
   "execution_count": null,
   "metadata": {},
   "outputs": [],
   "source": [
    "pd.DataFrame(results)"
   ]
  },
  {
   "cell_type": "markdown",
   "metadata": {},
   "source": [
    "<font color = 'green'><font size = 4> **Log Transformation**"
   ]
  },
  {
   "cell_type": "code",
   "execution_count": null,
   "metadata": {},
   "outputs": [],
   "source": [
    "data_log = pd.DataFrame([])\n",
    "data_log[\"price\"] = df.price\n",
    "\n",
    "data_log[\"sqft_lot\"] = np.log(df[\"sqft_lot\"])\n",
    "data_log[\"sqft_above\"] = np.log(df[\"sqft_above\"])\n",
    "data_log[\"sqft_basement\"] = np.log(df[\"sqft_basement\"])\n",
    "data_log[\"sqft_living15\"] = np.log(df[\"sqft_living15\"])\n"
   ]
  },
  {
   "cell_type": "code",
   "execution_count": null,
   "metadata": {},
   "outputs": [],
   "source": [
    "data_log.info()"
   ]
  },
  {
   "cell_type": "code",
   "execution_count": null,
   "metadata": {},
   "outputs": [],
   "source": [
    "fig, axes = plt.subplots(nrows=1, ncols=4, figsize=(20,3))\n",
    "\n",
    "for xcol, ax in zip([ 'sqft_lot', 'sqft_above', 'sqft_basement', 'sqft_living15'], axes):\n",
    "    data_log.plot(kind='scatter', x=xcol, y='price', ax=ax, alpha=0.4, color='b')"
   ]
  },
  {
   "cell_type": "code",
   "execution_count": null,
   "metadata": {},
   "outputs": [],
   "source": []
  }
 ],
 "metadata": {
  "kernelspec": {
   "display_name": "learn-env",
   "language": "python",
   "name": "learn-env"
  },
  "language_info": {
   "codemirror_mode": {
    "name": "ipython",
    "version": 3
   },
   "file_extension": ".py",
   "mimetype": "text/x-python",
   "name": "python",
   "nbconvert_exporter": "python",
   "pygments_lexer": "ipython3",
   "version": "3.6.9"
  },
  "toc": {
   "base_numbering": 1,
   "nav_menu": {},
   "number_sections": true,
   "sideBar": true,
   "skip_h1_title": false,
   "title_cell": "Table of Contents",
   "title_sidebar": "Contents",
   "toc_cell": false,
   "toc_position": {},
   "toc_section_display": true,
   "toc_window_display": false
  },
  "varInspector": {
   "cols": {
    "lenName": 16,
    "lenType": 16,
    "lenVar": 40
   },
   "kernels_config": {
    "python": {
     "delete_cmd_postfix": "",
     "delete_cmd_prefix": "del ",
     "library": "var_list.py",
     "varRefreshCmd": "print(var_dic_list())"
    },
    "r": {
     "delete_cmd_postfix": ") ",
     "delete_cmd_prefix": "rm(",
     "library": "var_list.r",
     "varRefreshCmd": "cat(var_dic_list()) "
    }
   },
   "types_to_exclude": [
    "module",
    "function",
    "builtin_function_or_method",
    "instance",
    "_Feature"
   ],
   "window_display": false
  }
 },
 "nbformat": 4,
 "nbformat_minor": 2
}
