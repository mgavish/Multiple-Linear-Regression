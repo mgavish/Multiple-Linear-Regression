{
 "cells": [
  {
   "cell_type": "code",
   "execution_count": 43,
   "metadata": {},
   "outputs": [],
   "source": [
    "import pandas as pd\n",
    "import numpy as np\n",
    "import seaborn as sns\n",
    "\n",
    "pd.set_option('display.max_columns', None) \n",
    "\n",
    "import matplotlib.pyplot as plt\n",
    "%matplotlib inline\n",
    "plt.style.use('seaborn')\n",
    "\n",
    "from scipy.stats import kurtosis, skew\n",
    "import scipy.stats as stats\n",
    "\n",
    "from math import sqrt\n",
    "\n",
    "import statsmodels.formula.api as smf"
   ]
  },
  {
   "cell_type": "code",
   "execution_count": 44,
   "metadata": {},
   "outputs": [],
   "source": [
    "df = pd.read_csv(\"cleaned_data_kc_house_data\")"
   ]
  },
  {
   "cell_type": "code",
   "execution_count": 45,
   "metadata": {},
   "outputs": [
    {
     "data": {
      "text/plain": [
       "(21082, 21)"
      ]
     },
     "execution_count": 45,
     "metadata": {},
     "output_type": "execute_result"
    }
   ],
   "source": [
    "df.shape"
   ]
  },
  {
   "cell_type": "code",
   "execution_count": 46,
   "metadata": {},
   "outputs": [],
   "source": [
    "df = df.drop(\"sqft_living\", axis = 1)"
   ]
  },
  {
   "cell_type": "code",
   "execution_count": 47,
   "metadata": {},
   "outputs": [
    {
     "data": {
      "text/plain": [
       "(21082, 20)"
      ]
     },
     "execution_count": 47,
     "metadata": {},
     "output_type": "execute_result"
    }
   ],
   "source": [
    "df.shape"
   ]
  },
  {
   "cell_type": "code",
   "execution_count": 48,
   "metadata": {},
   "outputs": [],
   "source": [
    "Auburn= pd.Series([98001,98002,98092])\n",
    "Bellevue= pd.Series([98004,98005,98006,98007,98008])\n",
    "Black_Diamond= pd.Series([98010])\n",
    "Bothell= pd.Series([98011])\n",
    "Carnation= pd.Series([98014])\n",
    "Duvall= pd.Series([98019])\n",
    "Enumclaw= pd.Series([98022])\n",
    "Fall_City= pd.Series([98024])\n",
    "Federal_Way= pd.Series([98003,98023])\n",
    "Issaquah= pd.Series([98027,98029])\n",
    "Kenmore= pd.Series([98028])\n",
    "Kent= pd.Series([98030,98031,98032,98042])\n",
    "Kirkland= pd.Series([98033,98034])\n",
    "Maple_Valley= pd.Series([98038])\n",
    "Medina= pd.Series([98039])\n",
    "Mercer_Island= pd.Series([98040])\n",
    "North_Bend= pd.Series([98045])\n",
    "Redmond= pd.Series([98052,98053])\n",
    "Renton= pd.Series([98055,98056,98058,98059])\n",
    "Sammamish= pd.Series([98074,98075])\n",
    "Seattle= pd.Series([98102,98103,98105,98106,98107,98108,98109,98112,98115,98116,98117,98118,98119,98122,98125,98126,98133,98136,98144,98146,98148,98155,98166,98168,98177,98178,98188,98198,98199])\n",
    "Snoqualmie= pd.Series([98065])\n",
    "Vashon= pd.Series([98070])\n",
    "Woodinville= pd.Series([98072,98077])"
   ]
  },
  {
   "cell_type": "code",
   "execution_count": 57,
   "metadata": {},
   "outputs": [],
   "source": [
    "towns = pd.Series([Auburn,\n",
    "Federal_Way,\n",
    "Bellevue,\n",
    "Black_Diamond,\n",
    "Bothell,\n",
    "Carnation,\n",
    "Duvall,\n",
    "Enumclaw,\n",
    "Fall_City,\n",
    "Issaquah,\n",
    "Kenmore,\n",
    "Kent,\n",
    "Kirkland,\n",
    "Maple_Valley,\n",
    "Medina,\n",
    "Mercer_Island,\n",
    "North_Bend,\n",
    "Redmond,\n",
    "Renton,\n",
    "Snoqualmie,\n",
    "Vashon,\n",
    "Woodinville,\n",
    "Sammamish,\n",
    "Seattle\n",
    "])"
   ]
  },
  {
   "cell_type": "code",
   "execution_count": null,
   "metadata": {},
   "outputs": [],
   "source": []
  },
  {
   "cell_type": "code",
   "execution_count": 56,
   "metadata": {},
   "outputs": [
    {
     "ename": "ValueError",
     "evalue": "bad input shape (1, 3)",
     "output_type": "error",
     "traceback": [
      "\u001b[1;31m---------------------------------------------------------------------------\u001b[0m",
      "\u001b[1;31mValueError\u001b[0m                                Traceback (most recent call last)",
      "\u001b[1;32m<ipython-input-56-61758e243644>\u001b[0m in \u001b[0;36m<module>\u001b[1;34m()\u001b[0m\n\u001b[0;32m      4\u001b[0m \u001b[0mtowns_encoded\u001b[0m \u001b[1;33m=\u001b[0m \u001b[1;33m[\u001b[0m\u001b[1;33m]\u001b[0m\u001b[1;33m\u001b[0m\u001b[0m\n\u001b[0;32m      5\u001b[0m \u001b[1;32mfor\u001b[0m \u001b[0mtown\u001b[0m \u001b[1;32min\u001b[0m \u001b[0mzip\u001b[0m\u001b[1;33m(\u001b[0m\u001b[0mtowns\u001b[0m\u001b[1;33m)\u001b[0m\u001b[1;33m:\u001b[0m\u001b[1;33m\u001b[0m\u001b[0m\n\u001b[1;32m----> 6\u001b[1;33m     \u001b[0mtown_encoded\u001b[0m \u001b[1;33m=\u001b[0m \u001b[0mlb_make\u001b[0m\u001b[1;33m.\u001b[0m\u001b[0mfit_transform\u001b[0m\u001b[1;33m(\u001b[0m\u001b[0mtown\u001b[0m\u001b[1;33m)\u001b[0m\u001b[1;33m\u001b[0m\u001b[0m\n\u001b[0m\u001b[0;32m      7\u001b[0m     \u001b[0mtowns_encoded\u001b[0m\u001b[1;33m.\u001b[0m\u001b[0mappend\u001b[0m\u001b[1;33m(\u001b[0m\u001b[0mtown\u001b[0m\u001b[1;33m)\u001b[0m\u001b[1;33m\u001b[0m\u001b[0m\n",
      "\u001b[1;32m~\\Anaconda3\\envs\\learn-env\\lib\\site-packages\\sklearn\\preprocessing\\label.py\u001b[0m in \u001b[0;36mfit_transform\u001b[1;34m(self, y)\u001b[0m\n\u001b[0;32m    233\u001b[0m         \u001b[0my\u001b[0m \u001b[1;33m:\u001b[0m \u001b[0marray\u001b[0m\u001b[1;33m-\u001b[0m\u001b[0mlike\u001b[0m \u001b[0mof\u001b[0m \u001b[0mshape\u001b[0m \u001b[1;33m[\u001b[0m\u001b[0mn_samples\u001b[0m\u001b[1;33m]\u001b[0m\u001b[1;33m\u001b[0m\u001b[0m\n\u001b[0;32m    234\u001b[0m         \"\"\"\n\u001b[1;32m--> 235\u001b[1;33m         \u001b[0my\u001b[0m \u001b[1;33m=\u001b[0m \u001b[0mcolumn_or_1d\u001b[0m\u001b[1;33m(\u001b[0m\u001b[0my\u001b[0m\u001b[1;33m,\u001b[0m \u001b[0mwarn\u001b[0m\u001b[1;33m=\u001b[0m\u001b[1;32mTrue\u001b[0m\u001b[1;33m)\u001b[0m\u001b[1;33m\u001b[0m\u001b[0m\n\u001b[0m\u001b[0;32m    236\u001b[0m         \u001b[0mself\u001b[0m\u001b[1;33m.\u001b[0m\u001b[0mclasses_\u001b[0m\u001b[1;33m,\u001b[0m \u001b[0my\u001b[0m \u001b[1;33m=\u001b[0m \u001b[0m_encode\u001b[0m\u001b[1;33m(\u001b[0m\u001b[0my\u001b[0m\u001b[1;33m,\u001b[0m \u001b[0mencode\u001b[0m\u001b[1;33m=\u001b[0m\u001b[1;32mTrue\u001b[0m\u001b[1;33m)\u001b[0m\u001b[1;33m\u001b[0m\u001b[0m\n\u001b[0;32m    237\u001b[0m         \u001b[1;32mreturn\u001b[0m \u001b[0my\u001b[0m\u001b[1;33m\u001b[0m\u001b[0m\n",
      "\u001b[1;32m~\\Anaconda3\\envs\\learn-env\\lib\\site-packages\\sklearn\\utils\\validation.py\u001b[0m in \u001b[0;36mcolumn_or_1d\u001b[1;34m(y, warn)\u001b[0m\n\u001b[0;32m    795\u001b[0m         \u001b[1;32mreturn\u001b[0m \u001b[0mnp\u001b[0m\u001b[1;33m.\u001b[0m\u001b[0mravel\u001b[0m\u001b[1;33m(\u001b[0m\u001b[0my\u001b[0m\u001b[1;33m)\u001b[0m\u001b[1;33m\u001b[0m\u001b[0m\n\u001b[0;32m    796\u001b[0m \u001b[1;33m\u001b[0m\u001b[0m\n\u001b[1;32m--> 797\u001b[1;33m     \u001b[1;32mraise\u001b[0m \u001b[0mValueError\u001b[0m\u001b[1;33m(\u001b[0m\u001b[1;34m\"bad input shape {0}\"\u001b[0m\u001b[1;33m.\u001b[0m\u001b[0mformat\u001b[0m\u001b[1;33m(\u001b[0m\u001b[0mshape\u001b[0m\u001b[1;33m)\u001b[0m\u001b[1;33m)\u001b[0m\u001b[1;33m\u001b[0m\u001b[0m\n\u001b[0m\u001b[0;32m    798\u001b[0m \u001b[1;33m\u001b[0m\u001b[0m\n\u001b[0;32m    799\u001b[0m \u001b[1;33m\u001b[0m\u001b[0m\n",
      "\u001b[1;31mValueError\u001b[0m: bad input shape (1, 3)"
     ]
    }
   ],
   "source": [
    "from sklearn.preprocessing import LabelEncoder\n",
    "lb_make = LabelEncoder()\n",
    "\n",
    "towns_encoded = []\n",
    "for town in zip(towns):\n",
    "    town_encoded = lb_make.fit_transform(town)\n",
    "    towns_encoded.append(town)"
   ]
  },
  {
   "cell_type": "code",
   "execution_count": null,
   "metadata": {},
   "outputs": [],
   "source": []
  },
  {
   "cell_type": "code",
   "execution_count": 15,
   "metadata": {},
   "outputs": [],
   "source": [
    "\n",
    "\n",
    "\n",
    "\n",
    "df.date = df.date.astype('datetime64')\n",
    "\n",
    "df.bedrooms = df.bedrooms.astype('category')\n",
    "df.bathrooms = df.bathrooms.astype('category')\n",
    "df.floors = df.floors.astype('category')\n",
    "df.waterfront = df.waterfront.astype('category')\n",
    "df.view = df.view.astype('category')\n",
    "df.condition = df.condition.astype('category')\n",
    "df.grade = df.grade.astype('category')\n",
    "df.zipcode = df.zipcode.astype('category')\n",
    "\n"
   ]
  },
  {
   "cell_type": "code",
   "execution_count": 5,
   "metadata": {},
   "outputs": [
    {
     "name": "stdout",
     "output_type": "stream",
     "text": [
      "Kings Count: price~sqft_living\n",
      "------------------------------\n",
      "['sqft_living', 0.49280911924669446, -43268.512106262235, 280.48770861771254, 0.0]\n",
      "Kings Count: price~sqft_lot\n",
      "------------------------------\n",
      "['sqft_lot', 0.007814472143692908, 528375.1502102641, 0.787376619727918, 7.585998491379787e-38]\n",
      "Kings Count: price~sqft_above\n",
      "------------------------------\n",
      "['sqft_above', 0.36660773487327236, 60694.197534214334, 268.0562844835508, 0.0]\n",
      "Kings Count: price~sqft_basement\n",
      "------------------------------\n",
      "['sqft_basement', 0.1043403360061641, 462160.52256332163, 268.0065023424773, 0.0]\n",
      "Kings Count: price~yr_built\n",
      "------------------------------\n",
      "['yr_built', 0.0030084646048746944, -811835.7701554694, 685.9800363317556, 1.5935116991992317e-15]\n",
      "Kings Count: price~yr_renovated\n",
      "------------------------------\n",
      "['yr_renovated', 0.01365299512004814, 532177.9010089242, 118.0378169199777, 5.5496510506427115e-65]\n",
      "Kings Count: price~lat\n",
      "------------------------------\n",
      "['lat', 0.09465928356351017, -38186648.20337009, 814268.1500736964, 0.0]\n",
      "Kings Count: price~long\n",
      "------------------------------\n",
      "['long', 0.0005067813418511147, 7716102.396627214, 58715.57038700301, 0.0010798408406751392]\n",
      "Kings Count: price~sqft_living15\n",
      "------------------------------\n",
      "['sqft_living15', 0.3439760005445677, -83139.90870363398, 313.74570157012994, 0.0]\n",
      "Kings Count: price~sqft_lot15\n",
      "------------------------------\n",
      "['sqft_lot15', 0.006977342552415111, 525880.1564511117, 1.1283501334874435, 5.81826300648992e-34]\n"
     ]
    }
   ],
   "source": [
    "col_names = df.describe().drop(['id', 'price' ],axis =1)\n",
    "results = [['ind_var', 'r_squared', 'intercept', 'slope', 'p-value' ]]\n",
    "for idx, val in enumerate(col_names):\n",
    "    print (\"Kings Count: price~\" + val)\n",
    "    print (\"------------------------------\")\n",
    "\n",
    "    f = 'price~' + val\n",
    "    model = smf.ols(formula=f, data=df).fit()\n",
    "    X_new = pd.DataFrame({val: [df[val].min(), df[val].max()]});\n",
    "    preds = model.predict(X_new)\n",
    "    results.append([val, model.rsquared, model.params[0], model.params[1], model.pvalues[1] ])\n",
    "    print(results[idx+1])"
   ]
  },
  {
   "cell_type": "code",
   "execution_count": 2,
   "metadata": {},
   "outputs": [],
   "source": [
    "#model.summary()"
   ]
  },
  {
   "cell_type": "code",
   "execution_count": 1,
   "metadata": {},
   "outputs": [],
   "source": [
    "#pd.DataFrame(results)"
   ]
  }
 ],
 "metadata": {
  "kernelspec": {
   "display_name": "learn-env",
   "language": "python",
   "name": "learn-env"
  },
  "language_info": {
   "codemirror_mode": {
    "name": "ipython",
    "version": 3
   },
   "file_extension": ".py",
   "mimetype": "text/x-python",
   "name": "python",
   "nbconvert_exporter": "python",
   "pygments_lexer": "ipython3",
   "version": "3.6.6"
  }
 },
 "nbformat": 4,
 "nbformat_minor": 2
}
